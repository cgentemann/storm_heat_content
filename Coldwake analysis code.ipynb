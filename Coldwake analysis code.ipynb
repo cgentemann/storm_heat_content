{
 "cells": [
  {
   "cell_type": "code",
   "execution_count": 1,
   "metadata": {},
   "outputs": [],
   "source": [
    "#plotting and data analysis for global cold wakes\n",
    "#from netCDF4 import Dataset  # http://code.google.com/p/netcdf4-python/\n",
    "import os\n",
    "import time\n",
    "import datetime as dt\n",
    "import xarray as xr\n",
    "from datetime import datetime\n",
    "import pandas\n",
    "import matplotlib.pyplot as plt\n",
    "import numpy as np\n",
    "import math\n",
    "####################you will need to change some paths here!#####################\n",
    "#list of input directories\n",
    "dir_storm_info='f:/data/tc_wakes/database/info/'\n",
    "dir_out='f:/data/tc_wakes/database/sst/'\n",
    "dir_flux = 'F:/data/model_data/oaflux/data_v3/daily/turbulence/'\n",
    "dir_cmc = 'F:/data/sst/cmc/CMC0.2deg/v2/'\n",
    "dir_ccmp='F:/data/sat_data/ccmp/v02.0/Y'\n",
    "##where to get the data through opendap, use these directories instead\n",
    "#dir_cmc = 'https://podaac-opendap.jpl.nasa.gov/opendap/allData/ghrsst/data/GDS2/L4/GLOB/CMC/CMC0.1deg/v3/'\n",
    "#dir_flux = 'http://apdrc.soest.hawaii.edu:80/dods/public_data/WHOI_OAFlux/version3/daily/lh_oaflux/'\n",
    "#the latest ccmp is from www.remss.com but they do not have an opendap server so you can use this instead:\n",
    "#dir_ccmp='https://podaac-opendap.jpl.nasa.gov/opendap/allData/ccmp/L3.0/flk/'\n",
    "\n",
    "#################################################################################\n",
    "import geopy.distance\n",
    "from math import sin, pi\n",
    "from scipy import interpolate\n",
    "\n",
    "#functions for running storm data\n",
    "import sys\n",
    "#sys.path.append('C:/Users/gentemann/Google Drive/d_drive/python/storm_heat_content/subroutines/')\n",
    "#from storm_masking_routines import interpolate_storm_path\n",
    "#from storm_masking_routines import get_dist_grid\n",
    "#from storm_masking_routines import closest_dist\n",
    "#from storm_masking_routines import calculate_storm_mask\n",
    "\n"
   ]
  },
  {
   "cell_type": "code",
   "execution_count": null,
   "metadata": {},
   "outputs": [],
   "source": [
    "\n",
    "#plot output data and mask\n",
    "\n",
    "import os\n",
    "dir_out_figures = 'F:/data/tc_wakes/database/figs/check_storm_dist/'\n",
    "iyr_storm,inum_storm = 2010,49\n",
    "for inum_storm in rang(e49,50): #100):\n",
    "    filename = dir_out + str(iyr_storm) + '/' + str(inum_storm).zfill(3) + '_interpolated_track.nc'\n",
    "    exists = os.path.isfile(filename)\n",
    "    if not exists:\n",
    "        continue\n",
    "    print(filename)\n",
    "    ds_storm=xr.open_dataset(filename)\n",
    "    ds_storm = ds_storm.sel(j2=0)\n",
    "    ds_storm.close()\n",
    "#    ds_storm['lon'] = (ds_storm.lon + 180) % 360 - 180\n",
    "    filename = dir_out + str(iyr_storm) + '/' + str(inum_storm).zfill(3) + '_combined_data.nc'\n",
    "    ds_all = xr.open_dataset(filename)\n",
    "    ds_all.close()\n",
    "    #ds_all = ds_all.sortby('lon')\n",
    "    print(ds_all.lon[0].values,ds_all.lon[-1].values)\n",
    "    if abs(ds_all.lon[-1]-ds_all.lon[0])>180:\n",
    "        ds_all.coords['lon'] = np.mod(ds_all['lon'], 360)\n",
    "        #ds_all = ds_all.sortby(ds_all.lon)\n",
    "        ds_storm['lon'] = np.mod(ds_storm['lon'], 360)\n",
    "        #ds_storm = ds_storm.sortby(ds_storm.lon)\n",
    "    plt.figure(figsize=(15,3.5))\n",
    "    plt.subplot(131)\n",
    "    ds_all.side_of_storm.plot()\n",
    "    plt.plot(ds_storm.lon,ds_storm.lat,'w')\n",
    "    plt.plot(ds_storm.lon[0],ds_storm.lat[0],'w*')\n",
    "    plt.subplot(132)\n",
    "    ds_all.dist_from_storm_km.plot(vmin=0,vmax=3000)\n",
    "    plt.plot(ds_storm.lon,ds_storm.lat,'w')\n",
    "    max_lat = ds_storm.lat.max()\n",
    "    if max_lat<0:\n",
    "        cond = ((ds_all.dist_from_storm_km<100) & (ds_all.side_of_storm<=0)) |  ((ds_all.dist_from_storm_km<800) & (ds_all.side_of_storm>0))\n",
    "    else:\n",
    "        cond = ((ds_all.dist_from_storm_km<800) & (ds_all.side_of_storm<0)) |  ((ds_all.dist_from_storm_km<100) & (ds_all.side_of_storm>=0))\n",
    "    subset = ds_all.where(cond)\n",
    "    plt.subplot(133)\n",
    "    subset.dist_from_storm_km.plot(vmin=0,vmax=3000)\n",
    "    plt.plot(ds_storm.lon,ds_storm.lat,'w')\n",
    "    filename = dir_out_figures + str(iyr_storm) + str(inum_storm).zfill(3) + '_interpolated_track.png'\n",
    "    plt.savefig(filename,dpi=100,bbox_inches='tight')\n",
    "    plt.close()"
   ]
  },
  {
   "cell_type": "code",
   "execution_count": null,
   "metadata": {},
   "outputs": [],
   "source": [
    "\n",
    "#plot output data and mask\n",
    "\n",
    "import os\n",
    "dir_out_figures = 'F:/data/tc_wakes/database/figs/check_storm_dist/'\n",
    "iyr_storm,inum_storm = 2013,27\n",
    "for inum_storm in range(49,50): #100):\n",
    "    filename = dir_out + str(iyr_storm) + '/' + str(inum_storm).zfill(3) + '_interpolated_track.nc'\n",
    "    exists = os.path.isfile(filename)\n",
    "    if not exists:\n",
    "        continue\n",
    "    print(filename)\n",
    "    ds_storm=xr.open_dataset(filename)\n",
    "    ds_storm = ds_storm.sel(j2=0)\n",
    "    ds_storm.close()\n",
    "#    ds_storm['lon'] = (ds_storm.lon + 180) % 360 - 180\n",
    "    filename = dir_out + str(iyr_storm) + '/' + str(inum_storm).zfill(3) + '_combined_data.nc'\n",
    "    ds_all = xr.open_dataset(filename)\n",
    "    ds_all.close()\n",
    "    filename = dir_out + str(iyr_storm) + '/' + str(inum_storm).zfill(3) + '_MLD_data_v2.nc'\n",
    "    ds_all2 = xr.open_dataset(filename)\n",
    "    ds_all2.close()\n",
    "    #ds_all = ds_all.sortby('lon')\n",
    "    print(ds_all.lon[0].values,ds_all.lon[-1].values)\n",
    "    if abs(ds_all.lon[-1]-ds_all.lon[0])>180:\n",
    "        ds_all.coords['lon'] = np.mod(ds_all['lon'], 360)\n",
    "        #ds_all = ds_all.sortby(ds_all.lon)\n",
    "        ds_storm['lon'] = np.mod(ds_storm['lon'], 360)\n",
    "        #ds_storm = ds_storm.sortby(ds_storm.lon)\n",
    "    plt.figure(figsize=(15,3.5))\n",
    "    plt.subplot(131)\n",
    "    ds_all.side_of_storm.plot()\n",
    "    plt.plot(ds_storm.lon,ds_storm.lat,'w')\n",
    "    plt.plot(ds_storm.lon[0],ds_storm.lat[0],'w*')\n",
    "    plt.subplot(132)\n",
    "    ds_all.dist_from_storm_km.plot(vmin=0,vmax=3000)\n",
    "    plt.plot(ds_storm.lon,ds_storm.lat,'w')\n",
    "    max_lat = ds_storm.lat.max()\n",
    "    if max_lat<0:\n",
    "        cond = ((ds_all.dist_from_storm_km<100) & (ds_all.side_of_storm<=0)) |  ((ds_all.dist_from_storm_km<800) & (ds_all.side_of_storm>0))\n",
    "    else:\n",
    "        cond = ((ds_all.dist_from_storm_km<800) & (ds_all.side_of_storm<0)) |  ((ds_all.dist_from_storm_km<100) & (ds_all.side_of_storm>=0))\n",
    "    subset = ds_all.where(cond)\n",
    "    plt.subplot(133)\n",
    "    subset.dist_from_storm_km.plot(vmin=0,vmax=3000)\n",
    "    plt.plot(ds_storm.lon,ds_storm.lat,'w')\n",
    "    filename = dir_out_figures + str(iyr_storm) + str(inum_storm).zfill(3) + '_interpolated_track.png'\n",
    "    plt.savefig(filename,dpi=100,bbox_inches='tight')\n",
    "    plt.close()\n",
    "    continue\n",
    "    \n",
    "    \n"
   ]
  },
  {
   "cell_type": "code",
   "execution_count": 58,
   "metadata": {},
   "outputs": [
    {
     "name": "stdout",
     "output_type": "stream",
     "text": [
      "f:/data/tc_wakes/database/sst/2002/015_interpolated_track.nc\n",
      "23790\n"
     ]
    }
   ],
   "source": [
    "\n",
    "\n",
    "#trying to rewrite so faster using numpy historgram\n",
    "#plotting and data analysis for global cold wakes\n",
    "#from netCDF4 import Dataset  # http://code.google.com/p/netcdf4-python/\n",
    "import os\n",
    "import time\n",
    "import datetime as dt\n",
    "import xarray as xr\n",
    "from datetime import datetime\n",
    "import pandas\n",
    "import matplotlib.pyplot as plt\n",
    "import numpy as np\n",
    "import math\n",
    "import geopy.distance\n",
    "from math import sin, pi\n",
    "from scipy import interpolate\n",
    "from scipy import stats\n",
    "\n",
    "#functions for running storm data\n",
    "import sys\n",
    "\n",
    "####################you will need to change some paths here!#####################\n",
    "#list of input directories\n",
    "dir_storm_info='f:/data/tc_wakes/database/info/'\n",
    "dir_out='f:/data/tc_wakes/database/sst/'\n",
    "#################################################################################\n",
    "\n",
    "#start to look at data and make some pdfs\n",
    "\n",
    "date_1858 = dt.datetime(1858,11,17,0,0,0) # start date is 11/17/1958\n",
    "\n",
    "map_lats=np.arange(-90,90,.25)\n",
    "map_lons=np.arange(-180,180,.25)\n",
    "imap_lats = map_lats.size\n",
    "imap_lons = map_lons.size\n",
    "  \n",
    "#for iyr_storm in range(2002,2018):\n",
    "for iyr_storm in range(2002,2018):\n",
    "    #init arrays\n",
    "    init_data=0\n",
    "    map_sum,map_cnt,map_max = np.zeros([imap_lats,imap_lons]),np.zeros([imap_lats,imap_lons]),np.zeros([imap_lats,imap_lons])\n",
    "    map_sum_recov,map_cnt_recov = np.zeros([imap_lats,imap_lons]),np.zeros([imap_lats,imap_lons])\n",
    "    for inum_storm in range(0,110): \n",
    "#    for inum_storm in range(16,17): \n",
    "        filename = dir_out + str(iyr_storm) + '/' + str(inum_storm).zfill(3) + '_interpolated_track.nc'\n",
    "        exists = os.path.isfile(filename)\n",
    "        if not exists:\n",
    "            continue\n",
    "        print(filename)\n",
    "        ds_storm_info=xr.open_dataset(filename)\n",
    "        ds_storm_info = ds_storm_info.sel(j2=0)\n",
    "        ds_storm_info.close()\n",
    "        filename = dir_out + str(iyr_storm) + '/' + str(inum_storm).zfill(3) + '_combined_data.nc'\n",
    "        ds_all = xr.open_dataset(filename)\n",
    "        ds_all['spd']=np.sqrt(ds_all.uwnd**2+ds_all.vwnd**2)\n",
    "        ds_all.close()\n",
    "        filename = dir_out + str(iyr_storm) + '/' + str(inum_storm).zfill(3) + '_MLD_data_v2.nc'\n",
    "        ds_all2 = xr.open_dataset(filename)\n",
    "        ds_all2.close()\n",
    "        if abs(ds_all.lon[-1]-ds_all.lon[0])>180:\n",
    "            ds_all.coords['lon'] = np.mod(ds_all['lon'], 360)\n",
    "            ds_storm_info['lon'] = np.mod(ds_storm_info['lon'], 360)\n",
    "        max_lat = ds_storm_info.lat.max()       \n",
    "        \n",
    "        xdim,ydim,tdim = ds_all.lon.shape[0],ds_all.lat.shape[0],ds_all.time.shape[0]\n",
    "\n",
    "        ds_all['tdif_dy'] = (ds_all.time-ds_all.closest_storm_time_np64)/np.timedelta64(1, 'D')\n",
    "        ssta = ds_all.analysed_sst-ds_all.analysed_sst_clim\n",
    "        sstps = ds_all.sst_prestorm_clim\n",
    "#        sstps = subset.analysed_sst[5,:,:]-subset.analysed_sst_clim[5,:,:]\n",
    "        ds_all['sst_anomaly']= ssta - sstps    \n",
    "        \n",
    "        \n",
    "        \n",
    "        #remove all data outsice 100km/800km or cold wake >0 or <-10\n",
    "        if max_lat<0:\n",
    "            cond = ((((ds_all.dist_from_storm_km<100) & (ds_all.side_of_storm<=0)) | \n",
    "            ((ds_all.dist_from_storm_km<800) & (ds_all.side_of_storm>0))) \n",
    "            & (ds_all.coldwake_max<=-.1) & (ds_all.coldwake_max>=-10))\n",
    "        else:\n",
    "            cond = ((((ds_all.dist_from_storm_km<800) & (ds_all.side_of_storm<0)) | \n",
    "            ((ds_all.dist_from_storm_km<100) & (ds_all.side_of_storm>=0))) \n",
    "            & (ds_all.coldwake_max<=-.1) & (ds_all.coldwake_max>=-10))\n",
    "        subset = ds_all.where(cond)\n",
    "        subset2 = ds_all2.where(cond)\n",
    "\n",
    "#array with only anomaly > -1K\n",
    "        if max_lat<0:\n",
    "            cond = ((((ds_all.dist_from_storm_km<100) & (ds_all.side_of_storm<=0)) | \n",
    "            ((ds_all.dist_from_storm_km<800) & (ds_all.side_of_storm>0))) \n",
    "            & (ds_all.coldwake_max<=-1) & (ds_all.coldwake_max>=-10))\n",
    "        else:\n",
    "            cond = ((((ds_all.dist_from_storm_km<800) & (ds_all.side_of_storm<0)) | \n",
    "            ((ds_all.dist_from_storm_km<100) & (ds_all.side_of_storm>=0))) \n",
    "            & (ds_all.coldwake_max<=-1) & (ds_all.coldwake_max>=-10))\n",
    "        subset_big = ds_all.where(cond)\n",
    "        subset2_big = ds_all2.where(cond)\n",
    "        \n",
    "        #create coldwake anomaly with nan for all values before wmo storm time\n",
    "#        ssta = subset.analysed_sst-subset.analysed_sst_clim\n",
    "#        sstps = subset.sst_prestorm_clim\n",
    "#        sstps = subset.analysed_sst[5,:,:]-subset.analysed_sst_clim[5,:,:]\n",
    "#        subset['sst_anomaly']= ssta - sstps    \n",
    "#        ssta = subset_big.analysed_sst-subset_big.analysed_sst_clim\n",
    "#        sstps = subset.sst_prestorm_clim\n",
    "#        sstps = subset_big.analysed_sst[5,:,:]-subset_big.analysed_sst_clim[5,:,:]\n",
    "#        subset_big['sst_anomaly']=ssta - sstps\n",
    "\n",
    "        \n",
    "#only keep sst_anomaly from 5 days before storm to cold wake recovery\n",
    "#        ds_all['sst_anomaly']=ds_all.analysed_sst-ds_all.sst_prestorm\n",
    "        for i in range(ydim):\n",
    "            for j in range(xdim):\n",
    "                if np.isnan(ds_all.coldwake_max[i,j]):\n",
    "                    continue\n",
    "                boolArr = (ds_all.tdif_dy[:,i,j] > 0)\n",
    "                result = np.where(boolArr)[0][0]\n",
    "                istart = int(result-5)\n",
    "                if istart<0:\n",
    "                    istart=0\n",
    "                iend = int(result+ds_all.coldwake_dytorecovery[i,j].data)\n",
    "                if iend>tdim:\n",
    "                    iend=tdim\n",
    "#                subset.sst_anomaly[i,j,:istart]=np.nan\n",
    "#                subset.sst_anomaly[i,j,iend:]=np.nan\n",
    "#                subset_big.sst_anomaly[i,j,:istart]=np.nan\n",
    "#                subset_big.sst_anomaly[i,j,iend:]=np.nan\n",
    "                subset.sst_anomaly[:istart,i,j]=np.nan\n",
    "                subset.sst_anomaly[iend:,i,j]=np.nan\n",
    "                subset_big.sst_anomaly[:istart,i,j]=np.nan\n",
    "                subset_big.sst_anomaly[iend:,i,j]=np.nan\n",
    "#        cond = ((((ds_all.dist_from_storm_km<800) & (ds_all.side_of_storm<0)) | \n",
    "#        ((ds_all.dist_from_storm_km<100) & (ds_all.side_of_storm>=0))) \n",
    "#        & (ds_all.coldwake_max<=-.1) & (ds_all.coldwake_max>=-10))\n",
    "#        subset_cold = ds_all.where(cond)       \n",
    "#end only keep sst_anomaly code\n",
    "        \n",
    "        \n",
    "    #    for i in range(0,xdim):\n",
    "    #        for j in range (0,ydim):\n",
    "    #            if np.isnan(subset.closest_storm_index[j,i]):\n",
    "    #                continue\n",
    "    #            iend = subset.closest_storm_index[j,i].data.astype(int)\n",
    "    #            subset.sst_anomaly[:iend,j,i]=np.nan\n",
    "\n",
    "        #create array with day.frac since closest storm passage\n",
    "        tdif_dy = (subset.time-subset.closest_storm_time_np64)/np.timedelta64(1, 'D')\n",
    "        tdif_dy2 = (subset_big.time-subset_big.closest_storm_time_np64)/np.timedelta64(1, 'D')\n",
    "    #    tdif_dy = tdif_dy.where(tdif_dy>=0,np.nan)\n",
    "        subset['tdif_dy']=tdif_dy\n",
    "        subset_big['tdif_dy']=tdif_dy2\n",
    "\n",
    "\n",
    " \n",
    "        pdim=xdim*ydim\n",
    "        pdim3=tdim*xdim*ydim\n",
    "        print(xdim*ydim)\n",
    "#        data = subset.coldwake_max\n",
    "#        cbin1 = np.arange(-10, 0, 0.1)  #cold wake bins\n",
    "#        bins=cbin1\n",
    "#        hist1,mids = np.histogram(data,bins)[0],0.5*(bins[1:]+bins[:-1])\n",
    "#        sum1 = np.cumsum(mids*hist1) \n",
    "\n",
    "        cbin1 = np.arange(-10, 0, 0.1)  #cold wake bins\n",
    "        bins=cbin1\n",
    "        x= np.reshape(subset.coldwake_max.data,(pdim))\n",
    "        v = np.reshape(subset.coldwake_max.data,(pdim))\n",
    "        x = x[~np.isnan(v)]\n",
    "        v = v[~np.isnan(v)]\n",
    "        if v.size>0:\n",
    "            hist1,mids1=stats.binned_statistic(x,v,'count', bins)[0],0.5*(bins[1:]+bins[:-1])\n",
    "            sum1=stats.binned_statistic(x,v, 'sum', bins)[0]\n",
    "\n",
    "        cbin2 = np.arange(0,8)  #day to max, plot histogram of when cold wake max happens\n",
    "        bins=cbin2\n",
    "        x= np.reshape(subset.coldwake_hrtomaxcold.data/24,(pdim))\n",
    "        v = np.reshape(subset.coldwake_max.data,(pdim))\n",
    "        x = x[~np.isnan(v)]\n",
    "        v = v[~np.isnan(v)]\n",
    "        if v.size>0:\n",
    "            hist2,mids2=stats.binned_statistic(x,v,'count', bins)[0],0.5*(bins[1:]+bins[:-1])\n",
    "            sum2=stats.binned_statistic(x,v, 'sum', bins)[0]\n",
    "\n",
    "        cbin3 = np.arange(0,50)  #dy to recovery\n",
    "        bins=cbin3\n",
    "        x= np.reshape(subset.coldwake_dytorecovery.data,(pdim))\n",
    "        v = np.reshape(subset.coldwake_max.data,(pdim))\n",
    "        x = x[~np.isnan(v)]\n",
    "        v = v[~np.isnan(v)]\n",
    "        if v.size>0:\n",
    "            hist3,mids3=stats.binned_statistic(x,v,'count', bins)[0],0.5*(bins[1:]+bins[:-1])\n",
    "            sum3=stats.binned_statistic(x,v, 'sum', bins)[0]\n",
    "\n",
    "        cbin4 = np.arange(0,400,10)  #max cold wake as function of MLD at start of storm\n",
    "        bins=cbin4\n",
    "        x= np.reshape(subset.dbss_obml[0,:,:].data,(pdim))\n",
    "        v = np.reshape(subset.coldwake_max.data,(pdim))\n",
    "        x = x[~np.isnan(v)]\n",
    "        v = v[~np.isnan(v)]\n",
    "        if v.size>0:\n",
    "            hist4,mids4=stats.binned_statistic(x,v,'count', bins)[0],0.5*(bins[1:]+bins[:-1])\n",
    "            sum4=stats.binned_statistic(x,v, 'sum', bins)[0]\n",
    "\n",
    "        cbin4a = np.arange(0,400,10)  #max cold wake as function of MLD at start of storm\n",
    "        bins=cbin4a\n",
    "        x= np.reshape(subset2.mxldepth[1,:,:].data,(pdim))\n",
    "        v = np.reshape(subset.coldwake_max.data,(pdim))\n",
    "        x = x[~np.isnan(v)]\n",
    "        v = v[~np.isnan(v)]\n",
    "        if v.size>0:\n",
    "            hist4a,mids4a=stats.binned_statistic(x,v,'count', bins)[0],0.5*(bins[1:]+bins[:-1])\n",
    "            sum4a=stats.binned_statistic(x,v, 'sum', bins)[0]\n",
    "        \n",
    "        \n",
    "        cbin5 = np.arange(0,200,5)  #max cold wake as function of wmo max storm wind speed\n",
    "        bins=cbin5\n",
    "        x= np.reshape(subset.wmo_storm_wind.data,(pdim))\n",
    "        v = np.reshape(subset.coldwake_max.data,(pdim))\n",
    "        x = x[~np.isnan(v)]\n",
    "        v = v[~np.isnan(v)]\n",
    "        if v.size>0:\n",
    "            hist5,mids5=stats.binned_statistic(x,v,'count', bins)[0],0.5*(bins[1:]+bins[:-1])\n",
    "            sum5=stats.binned_statistic(x,v, 'sum', bins)[0]\n",
    "\n",
    "        cbin6 = np.arange(0,200,5)  #max cold wake as function of wmo max storm translation speed\n",
    "        bins=cbin6\n",
    "        x= np.reshape(subset.wmo_storm_speed_kmhr.data,(pdim))\n",
    "        v = np.reshape(subset.coldwake_max.data,(pdim))\n",
    "        x = x[~np.isnan(v)]\n",
    "        v = v[~np.isnan(v)]\n",
    "        if v.size>0:\n",
    "            hist6,mids6=stats.binned_statistic(x,v,'count', bins)[0],0.5*(bins[1:]+bins[:-1])\n",
    "            sum6=stats.binned_statistic(x,v, 'sum', bins)[0]\n",
    "\n",
    "        cbin7 = np.arange(-10,50,1)  #cold wake recovery as function of time\n",
    "        bins = cbin7\n",
    "        x= np.reshape(subset.tdif_dy.data,(pdim3))\n",
    "        v = np.reshape(subset.sst_anomaly.data,(pdim3))\n",
    "        x = x[~np.isnan(v)]\n",
    "        v = v[~np.isnan(v)]\n",
    "        if v.size>0:\n",
    "            hist7,mids7=stats.binned_statistic(x,v,'count', bins)[0],0.5*(bins[1:]+bins[:-1])\n",
    "            sum7=stats.binned_statistic(x,v, 'sum', bins)[0]\n",
    "\n",
    "        cbin7a = np.arange(-10,50,1)  #cold wake recovery as function of time\n",
    "        bins = cbin7\n",
    "        x= np.reshape(subset_big.tdif_dy.data,(pdim3))\n",
    "        v = np.reshape(subset_big.sst_anomaly.data,(pdim3))\n",
    "        x = x[~np.isnan(v)]\n",
    "        v = v[~np.isnan(v)]\n",
    "        if v.size>0:\n",
    "            hist7a,mids7a=stats.binned_statistic(x,v,'count', bins)[0],0.5*(bins[1:]+bins[:-1])\n",
    "            sum7a=stats.binned_statistic(x,v, 'sum', bins)[0]\n",
    "\n",
    "        x1= np.reshape(subset.wmo_storm_speed_kmhr.data,(pdim))\n",
    "        x3= np.reshape(subset.wmo_storm_wind.data,(pdim))\n",
    "        b1= cbin6 #np.arange(0,200,1)\n",
    "        b3= cbin5 #np.arange(0,200,1)\n",
    "        dbins=np.vstack((b1,b3)).T\n",
    "        v = np.reshape(subset.coldwake_max.data,(pdim))\n",
    "        hist8=stats.binned_statistic_2d(x1,x3,v,'count', bins=dbins.T)[0]\n",
    "        sum8=stats.binned_statistic_2d(x1,x3,v, 'sum', bins=dbins.T)[0]\n",
    "\n",
    "        x1= np.reshape(subset.wmo_storm_speed_kmhr.data,(pdim))\n",
    "        x2= np.reshape(subset.dbss_obml[0,:,:].data,(pdim))\n",
    "        x3= np.reshape(subset.wmo_storm_wind.data,(pdim))\n",
    "        x=np.vstack((x1,x2,x3))\n",
    "        b1= cbin6 #np.arange(0,200,1)\n",
    "        b2= cbin4 #np.arange(0,600,3)\n",
    "        b3= cbin5 #np.arange(0,200,1)\n",
    "        dbins=np.vstack((b1,b2,b3)).T\n",
    "        v = np.reshape(subset.coldwake_max.data,(pdim))\n",
    "        hist9=stats.binned_statistic_dd(x.T,v,'count', bins=dbins.T)[0]\n",
    "        sum9=stats.binned_statistic_dd(x.T,v, 'sum', bins=dbins.T)[0]    \n",
    "\n",
    "#        x1= np.reshape(subset.tdif_dy.data,(pdim))\n",
    "#        x2= np.reshape(subset.wmo_storm_wind.data,(pdim))\n",
    "#        x=np.vstack((x1,x2))\n",
    "#        b1= cbin7 #np.arange(-10,50,1)\n",
    "##        b2= cbin5 #np.arange(-10, 0, 0.1)\n",
    "#        dbins=np.vstack((b1,b2)).T\n",
    "#        v = np.reshape(subset.sst_anomaly.data,(pdim))\n",
    "#        hist10=stats.binned_statistic_dd(x.T,v,'count', bins=dbins.T)[0]\n",
    "#        sum10=stats.binned_statistic_dd(x.T,v, 'sum', bins=dbins.T)[0]    \n",
    "        \n",
    "        \n",
    "        if init_data == 0:\n",
    "            sv_sum1,sv_cnt1,sv_bin1 = sum1,hist1,cbin1\n",
    "            sv_sum2,sv_cnt2,sv_bin2 = sum2,hist2,cbin2\n",
    "            sv_sum3,sv_cnt3,sv_bin3 = sum3,hist3,cbin3\n",
    "            sv_sum4,sv_cnt4,sv_bin4 = sum4,hist4,cbin4\n",
    "            sv_sum4a,sv_cnt4a,sv_bin4a = sum4a,hist4a,cbin4a\n",
    "            sv_sum5,sv_cnt5,sv_bin5 = sum5,hist5,cbin5\n",
    "            sv_sum6,sv_cnt6,sv_bin6 = sum6,hist6,cbin6\n",
    "            sv_sum7,sv_cnt7,sv_bin7 = sum7,hist7,cbin7\n",
    "            sv_sum7a,sv_cnt7a,sv_bin7a = sum7a,hist7a,cbin7a\n",
    "            sv_sum8,sv_cnt8 = sum8,hist8\n",
    "            sv_sum9,sv_cnt9 = sum9,hist9\n",
    " #           sv_sum10,sv_cnt10 = sum10,hist10\n",
    "            init_data=1\n",
    "        else:\n",
    "            sv_sum1+= sum1\n",
    "            sv_cnt1+= hist1\n",
    "            sv_sum2+= sum2\n",
    "            sv_cnt2+= hist2\n",
    "            sv_sum3+= sum3\n",
    "            sv_cnt3+= hist3\n",
    "            sv_sum4+= sum4\n",
    "            sv_cnt4+= hist4\n",
    "            sv_sum4a+= sum4a\n",
    "            sv_cnt4a+= hist4a\n",
    "            sv_sum5+= sum5\n",
    "            sv_cnt5+= hist5      \n",
    "            sv_sum6+= sum6\n",
    "            sv_cnt6+= hist6           \n",
    "            sv_sum7+= sum7\n",
    "            sv_cnt7+= hist7           \n",
    "            sv_sum7a+= sum7a\n",
    "            sv_cnt7a+= hist7a           \n",
    "            sv_sum8+= sum8\n",
    "            sv_cnt8+= hist8           \n",
    "            sv_sum9+= sum9\n",
    "            sv_cnt9+= hist9           \n",
    "  #          sv_sum10+= sum10\n",
    "  #          sv_cnt10+= hist10           \n",
    "\n",
    "        #put on global map\n",
    "        tem = subset.coldwake_max.interp(lat=map_lats,lon=map_lons)\n",
    "        tem=tem.fillna(0)\n",
    "        temc=(tem/tem).fillna(0)\n",
    "        map_sum+=tem\n",
    "        map_cnt+=temc\n",
    "        map_max=np.where(tem.data < map_max, tem,map_max)  #where tem<max put tem value in otherwise leave max\n",
    "        tem = subset.coldwake_dytorecovery.interp(lat=map_lats,lon=map_lons)\n",
    "        tem=tem.fillna(0)\n",
    "        temc=(tem/tem).fillna(0)\n",
    "        map_sum_recov+=tem\n",
    "        map_cnt_recov+=temc\n",
    "\n",
    "    m1=xr.DataArray(map_sum, coords={'lat': map_lats, 'lon':map_lons}, dims=('lat', 'lon'))        \n",
    "    m2=xr.DataArray(map_cnt, coords={'lat': map_lats, 'lon':map_lons}, dims=('lat', 'lon'))        \n",
    "    m3=xr.DataArray(map_max, coords={'lat': map_lats, 'lon':map_lons}, dims=('lat', 'lon'))        \n",
    "    m4=xr.DataArray(map_sum_recov, coords={'lat': map_lats, 'lon':map_lons}, dims=('lat', 'lon'))        \n",
    "    m5=xr.DataArray(map_cnt_recov, coords={'lat': map_lats, 'lon':map_lons}, dims=('lat', 'lon'))        \n",
    "    ds=xr.Dataset(data_vars={'sum1': (('coldw'),sv_sum1),\n",
    "                             'cnt1': (('coldw'),sv_cnt1),\n",
    "                             'sum2': (('dymax'),sv_sum2),\n",
    "                             'cnt2': (('dymax'),sv_cnt2),\n",
    "                             'sum3': (('dyrec'),sv_sum3),\n",
    "                             'cnt3': (('dyrec'),sv_cnt3),\n",
    "                             'sum4': (('mld'),sv_sum4),\n",
    "                             'cnt4': (('mld'),sv_cnt4),\n",
    "                             'sum4a': (('mld2'),sv_sum4a),\n",
    "                             'cnt4a': (('mld2'),sv_cnt4a),\n",
    "                             'sum5': (('wnd'),sv_sum5),\n",
    "                             'cnt5': (('wnd'),sv_cnt5),\n",
    "                             'sum6': (('tspd'),sv_sum6),\n",
    "                             'cnt6': (('tspd'),sv_cnt6),\n",
    "                             'sum7': (('dtime'),sv_sum7),\n",
    "                             'cnt7': (('dtime'),sv_cnt7),\n",
    "                             'sum7a': (('dtime'),sv_sum7a),\n",
    "                             'cnt7a': (('dtime'),sv_cnt7a),\n",
    "                             'sum8': (('tspd','wnd'),sv_sum8),\n",
    "                             'cnt8': (('tspd','wnd'),sv_cnt8),\n",
    "                             'sum9': (('tspd','mld','wnd'),sv_sum9),\n",
    "                             'cnt9': (('tspd','mld','wnd'),sv_cnt9),\n",
    "                                 'map_sum': (('lat','lon'),m1),\n",
    "                                'map_cnt': (('lat','lon'),m2),\n",
    "                                'map_max': (('lat','lon'),m3),\n",
    "                                 'map_sum_recov': (('lat','lon'),m4),\n",
    "                                'map_cnt_recov': (('lat','lon'),m5)\n",
    "                               },\n",
    "                                 coords={'coldw':cbin1[0:-1],\n",
    "                                         'dymax':cbin2[0:-1],\n",
    "                                         'dyrec':cbin3[0:-1],\n",
    "                                         'mld':cbin4[0:-1],\n",
    "                                         'wnd':cbin5[0:-1],\n",
    "                                         'tspd':cbin6[0:-1],\n",
    "                                         'dtime':cbin7[0:-1],\n",
    "                                         'lat':map_lats,'lon':map_lons})\n",
    "\n",
    "    filename='f:/data/tc_wakes/database/results/hist_sum_'+str(iyr_storm)+'.nc'\n",
    "    ds.to_netcdf(filename)\n",
    "\n",
    "\n",
    "\n"
   ]
  },
  {
   "cell_type": "code",
   "execution_count": 57,
   "metadata": {},
   "outputs": [
    {
     "data": {
      "text/plain": [
       "17822"
      ]
     },
     "execution_count": 57,
     "metadata": {},
     "output_type": "execute_result"
    }
   ],
   "source": [
    "#print(i,j,istart)\n",
    "#subset.sst_anomaly[i,j,:istart]=np.nan\n",
    "v.size"
   ]
  },
  {
   "cell_type": "code",
   "execution_count": 56,
   "metadata": {},
   "outputs": [
    {
     "name": "stderr",
     "output_type": "stream",
     "text": [
      "C:\\Users\\gentemann\\Miniconda3\\envs\\satenv\\lib\\site-packages\\ipykernel_launcher.py:1: RuntimeWarning: invalid value encountered in true_divide\n",
      "  \"\"\"Entry point for launching an IPython kernel.\n"
     ]
    },
    {
     "data": {
      "text/plain": [
       "[<matplotlib.lines.Line2D at 0x20e35f5ef98>]"
      ]
     },
     "execution_count": 56,
     "metadata": {},
     "output_type": "execute_result"
    },
    {
     "data": {
      "image/png": "[encoded data removed]",
      "text/plain": [
       "<Figure size 432x288 with 1 Axes>"
      ]
     },
     "metadata": {
      "needs_background": "light"
     },
     "output_type": "display_data"
    }
   ],
   "source": [
    "plt.plot(sum7/hist7)\n",
    "#subset.sst_anomaly[:,:,30].plot()\n",
    "#(subset.analysed_sst[30,:,:]-subset.sst_prestorm).plot()\n",
    "#subset.analysed_sst[30,:,:].plot()\n",
    "#subset.sst_prestorm.plot()\n",
    "#subset.analysed_sst_clim[30,:,:].plot()\n",
    "#subset.sst_prestorm_clim.plot()\n"
   ]
  },
  {
   "cell_type": "code",
   "execution_count": 146,
   "metadata": {},
   "outputs": [
    {
     "name": "stdout",
     "output_type": "stream",
     "text": [
      "2002\n",
      "2003\n",
      "2004\n",
      "2005\n",
      "2006\n",
      "2007\n",
      "2008\n",
      "2009\n",
      "2010\n",
      "2011\n",
      "2012\n",
      "2013\n",
      "2014\n",
      "2015\n",
      "2016\n",
      "2017\n"
     ]
    }
   ],
   "source": [
    "init_data=0\n",
    "for iyr_storm in range(2002,2018):\n",
    "    print(iyr_storm)\n",
    "    filename='f:/data/tc_wakes/database/results/hist_sum_'+str(iyr_storm)+'.nc'\n",
    "    ds=xr.open_dataset(filename)\n",
    "    ds.close()\n",
    "    if init_data == 0:\n",
    "        ds_all = ds\n",
    "        init_data=1\n",
    "    else:\n",
    "        ds_all+= ds\n",
    "filename='f:/data/tc_wakes/database/results/hist_sum_2002_2017a.nc'\n",
    "ds_all.to_netcdf(filename)\n"
   ]
  },
  {
   "cell_type": "code",
   "execution_count": 2,
   "metadata": {},
   "outputs": [],
   "source": [
    "filename='f:/data/tc_wakes/database/results/hist_sum_2002_2017.nc'\n",
    "ds_all = xr.open_dataset(filename)\n"
   ]
  },
  {
   "cell_type": "code",
   "execution_count": 19,
   "metadata": {},
   "outputs": [
    {
     "data": {
      "text/plain": [
       "<xarray.Dataset>\n",
       "Dimensions:                  (lat: 199, lon: 185, time: 59)\n",
       "Coordinates:\n",
       "  * lat                      (lat) float64 -50.38 -50.12 ... -0.8763 -0.625\n",
       "  * lon                      (lon) float64 40.38 40.63 40.88 ... 86.37 86.62\n",
       "  * time                     (time) datetime64[ns] 2002-02-26T12:00:00 ... 2002-04-25T12:00:00\n",
       "Data variables:\n",
       "    uwnd                     (time, lat, lon) float64 nan nan nan ... nan nan\n",
       "    vwnd                     (time, lat, lon) float64 nan nan nan ... nan nan\n",
       "    date                     (time, lat, lon) float64 nan nan nan ... nan nan\n",
       "    timePlot                 (time, lat, lon) float64 nan nan nan ... nan nan\n",
       "    dbss_obml                (time, lat, lon) float64 nan nan nan ... nan nan\n",
       "    lhtfl                    (time, lat, lon) float64 nan nan nan ... nan nan\n",
       "    shtfl                    (time, lat, lon) float64 nan nan nan ... nan nan\n",
       "    tmp2m                    (time, lat, lon) float64 nan nan nan ... nan nan\n",
       "    hum2m                    (time, lat, lon) float64 nan nan nan ... nan nan\n",
       "    analysed_sst             (time, lat, lon) float64 nan nan nan ... nan nan\n",
       "    mask                     (time, lat, lon) float64 nan nan nan ... nan nan\n",
       "    analysed_sst_clim        (time, lat, lon) float64 nan nan nan ... nan nan\n",
       "    mask_clim                (time, lat, lon) float64 nan nan nan ... nan nan\n",
       "    storm_mask               (time, lat, lon) float64 nan nan nan ... nan nan\n",
       "    dist_from_storm_km       (lat, lon) float64 nan nan nan nan ... nan nan nan\n",
       "    closest_storm_index      (lat, lon) float64 nan nan nan nan ... nan nan nan\n",
       "    closest_storm_time       (lat, lon) float64 nan nan nan nan ... nan nan nan\n",
       "    side_of_storm            (lat, lon) float64 nan nan nan nan ... nan nan nan\n",
       "    wmo_storm_wind           (lat, lon) float64 nan nan nan nan ... nan nan nan\n",
       "    wmo_storm_pres           (lat, lon) float64 nan nan nan nan ... nan nan nan\n",
       "    wmo_storm_speed_kmhr     (lat, lon) float64 nan nan nan nan ... nan nan nan\n",
       "    closest_storm_time_np64  (lat, lon) datetime64[ns] NaT NaT NaT ... NaT NaT\n",
       "    sst_prestorm             (lat, lon) float64 nan nan nan nan ... nan nan nan\n",
       "    sst_prestorm_clim        (lat, lon) float64 nan nan nan nan ... nan nan nan\n",
       "    sst_anom                 (time, lat, lon) float64 nan nan nan ... nan nan\n",
       "    coldwake_max             (lat, lon) float64 nan nan nan nan ... nan nan nan\n",
       "    coldwake_maxindex        (lat, lon) float64 nan nan nan nan ... nan nan nan\n",
       "    coldwake_hrtomaxcold     (lat, lon) float64 nan nan nan nan ... nan nan nan\n",
       "    coldwake_dytorecovery    (lat, lon) float64 nan nan nan nan ... nan nan nan\n",
       "    spd                      (time, lat, lon) float64 nan nan nan ... nan nan\n",
       "    sst_anomaly              (lat, lon, time) float64 nan nan nan ... nan nan"
      ]
     },
     "execution_count": 19,
     "metadata": {},
     "output_type": "execute_result"
    }
   ],
   "source": [
    "subset"
   ]
  },
  {
   "cell_type": "code",
   "execution_count": 147,
   "metadata": {},
   "outputs": [
    {
     "data": {
      "text/plain": [
       "[<matplotlib.lines.Line2D at 0x20e4cab9518>]"
      ]
     },
     "execution_count": 147,
     "metadata": {},
     "output_type": "execute_result"
    },
    {
     "data": {
      "image/png": "[encoded data removed]",
      "text/plain": [
       "<Figure size 432x288 with 1 Axes>"
      ]
     },
     "metadata": {
      "needs_background": "light"
     },
     "output_type": "display_data"
    }
   ],
   "source": [
    "(ds_all.sum7/ds_all.cnt7).plot()"
   ]
  },
  {
   "cell_type": "code",
   "execution_count": 64,
   "metadata": {},
   "outputs": [
    {
     "data": {
      "text/plain": [
       "<xarray.Dataset>\n",
       "Dimensions:        (coldw: 99, dtime: 59, dymax: 7, dyrec: 49, lat: 720, lon: 1440, mld: 39, mld2: 39, tspd: 39, wnd: 39)\n",
       "Coordinates:\n",
       "  * coldw          (coldw) float64 -10.0 -9.9 -9.8 -9.7 ... -0.5 -0.4 -0.3 -0.2\n",
       "  * dymax          (dymax) int32 0 1 2 3 4 5 6\n",
       "  * dyrec          (dyrec) int32 0 1 2 3 4 5 6 7 8 ... 41 42 43 44 45 46 47 48\n",
       "  * mld            (mld) int32 0 10 20 30 40 50 60 ... 330 340 350 360 370 380\n",
       "  * wnd            (wnd) int32 0 5 10 15 20 25 30 ... 165 170 175 180 185 190\n",
       "  * tspd           (tspd) int32 0 5 10 15 20 25 30 ... 165 170 175 180 185 190\n",
       "  * dtime          (dtime) int32 -10 -9 -8 -7 -6 -5 -4 ... 42 43 44 45 46 47 48\n",
       "  * lat            (lat) float64 -90.0 -89.75 -89.5 -89.25 ... 89.25 89.5 89.75\n",
       "  * lon            (lon) float64 -180.0 -179.8 -179.5 ... 179.2 179.5 179.8\n",
       "Dimensions without coordinates: mld2\n",
       "Data variables:\n",
       "    sum1           (coldw) float64 0.0 0.0 -9.776 ... -1.968e+04 -9.012e+03\n",
       "    cnt1           (coldw) float64 0.0 0.0 1.0 ... 8.256e+04 7.832e+04 5.868e+04\n",
       "    sum2           (dymax) float64 -3.073e+04 -5.657e+04 ... -1.785e+05\n",
       "    cnt2           (dymax) float64 7.184e+04 1.023e+05 ... 6.706e+04 2.116e+05\n",
       "    sum3           (dyrec) float64 0.0 -4.639e+03 ... -7.472e+03 -1.084e+04\n",
       "    cnt3           (dyrec) float64 0.0 2.128e+04 ... 7.732e+03 1.161e+04\n",
       "    sum4           (mld) float64 -1.11e+04 -7.03e+04 -1.145e+05 ... 0.0 0.0 0.0\n",
       "    cnt4           (mld) float64 7.481e+03 6.441e+04 1.365e+05 ... 0.0 0.0 0.0\n",
       "    sum4a          (mld2) float64 -7.576e+03 -8.795e+04 ... -4.127 -1.551\n",
       "    cnt4a          (mld2) float64 8.07e+03 8.19e+04 1.738e+05 ... 11.0 4.0 1.0\n",
       "    sum5           (wnd) float64 -9.907e+04 -674.5 -887.7 ... 0.0 0.0 0.0\n",
       "    cnt5           (wnd) float64 1.308e+05 657.0 1.355e+03 ... 0.0 0.0 0.0\n",
       "    sum6           (tspd) float64 -1.044e+04 -4.113e+04 -5.409e+04 ... 0.0 0.0\n",
       "    cnt6           (tspd) float64 1.528e+04 5.691e+04 7.898e+04 ... 0.0 0.0 0.0\n",
       "    sum7           (dtime) float64 0.0 0.0 0.0 ... -1.399e+04 -8.405e+03\n",
       "    cnt7           (dtime) float64 0.0 0.0 0.0 ... 3.368e+04 2.543e+04 1.420e+04\n",
       "    sum7a          (dtime) float64 0.0 0.0 0.0 ... -4.893e+03 -2.771e+03\n",
       "    cnt7a          (dtime) float64 0.0 0.0 0.0 ... 1.142e+04 7.787e+03 4.122e+03\n",
       "    sum8           (tspd, wnd) float64 -1.522e+03 0.0 0.0 -311.9 ... 0.0 0.0 0.0\n",
       "    cnt8           (tspd, wnd) float64 1.637e+03 0.0 0.0 937.0 ... 0.0 0.0 0.0\n",
       "    sum9           (tspd, mld, wnd) float64 -193.2 0.0 0.0 0.0 ... 0.0 0.0 0.0\n",
       "    cnt9           (tspd, mld, wnd) float64 191.0 0.0 0.0 0.0 ... 0.0 0.0 0.0\n",
       "    map_sum        (lat, lon) float64 0.0 0.0 0.0 0.0 0.0 ... 0.0 0.0 0.0 0.0\n",
       "    map_cnt        (lat, lon) float64 0.0 0.0 0.0 0.0 0.0 ... 0.0 0.0 0.0 0.0\n",
       "    map_max        (lat, lon) float64 0.0 0.0 0.0 0.0 0.0 ... 0.0 0.0 0.0 0.0\n",
       "    map_sum_recov  (lat, lon) float64 0.0 0.0 0.0 0.0 0.0 ... 0.0 0.0 0.0 0.0\n",
       "    map_cnt_recov  (lat, lon) float64 0.0 0.0 0.0 0.0 0.0 ... 0.0 0.0 0.0 0.0"
      ]
     },
     "execution_count": 64,
     "metadata": {},
     "output_type": "execute_result"
    }
   ],
   "source": [
    "ds_all"
   ]
  },
  {
   "cell_type": "code",
   "execution_count": 150,
   "metadata": {},
   "outputs": [
    {
     "data": {
      "text/plain": [
       "<matplotlib.collections.QuadMesh at 0x20e4cbf5be0>"
      ]
     },
     "execution_count": 150,
     "metadata": {},
     "output_type": "execute_result"
    },
    {
     "data": {
      "image/png": "[encoded data removed]",
      "text/plain": [
       "<Figure size 432x288 with 2 Axes>"
      ]
     },
     "metadata": {
      "needs_background": "light"
     },
     "output_type": "display_data"
    }
   ],
   "source": [
    "(ds_all.map_sum/ds_all.map_cnt).plot(vmin=0,vmax=-2)"
   ]
  },
  {
   "cell_type": "code",
   "execution_count": null,
   "metadata": {},
   "outputs": [],
   "source": [
    "plt.plot((subset.sst_prestorm[62,62]-subset.sst_prestorm_clim[62,62])-(subset.analysed_sst[:,62,62]-subset.analysed_sst_clim[:,62,62]))"
   ]
  },
  {
   "cell_type": "code",
   "execution_count": 143,
   "metadata": {},
   "outputs": [
    {
     "name": "stdout",
     "output_type": "stream",
     "text": [
      "f:/data/tc_wakes/database/sst/2002/019_interpolated_track.nc\n",
      "17822\n"
     ]
    }
   ],
   "source": [
    "#print out individual storms\n",
    "#trying to rewrite so faster using numpy historgram\n",
    "#plotting and data analysis for global cold wakes\n",
    "#from netCDF4 import Dataset  # http://code.google.com/p/netcdf4-python/\n",
    "import os\n",
    "import time\n",
    "import datetime as dt\n",
    "import xarray as xr\n",
    "from datetime import datetime\n",
    "import pandas\n",
    "import matplotlib.pyplot as plt\n",
    "import numpy as np\n",
    "import math\n",
    "import geopy.distance\n",
    "from math import sin, pi\n",
    "from scipy import interpolate\n",
    "from scipy import stats\n",
    "\n",
    "#functions for running storm data\n",
    "import sys\n",
    "\n",
    "####################you will need to change some paths here!#####################\n",
    "#list of input directories\n",
    "dir_storm_info='f:/data/tc_wakes/database/info/'\n",
    "dir_out='f:/data/tc_wakes/database/sst/'\n",
    "#################################################################################\n",
    "\n",
    "#start to look at data and make some pdfs\n",
    "\n",
    "date_1858 = dt.datetime(1858,11,17,0,0,0) # start date is 11/17/1958\n",
    "\n",
    "map_lats=np.arange(-90,90,.25)\n",
    "map_lons=np.arange(-180,180,.25)\n",
    "imap_lats = map_lats.size\n",
    "imap_lons = map_lons.size\n",
    "  \n",
    "#for iyr_storm in range(2002,2018):\n",
    "for iyr_storm in range(2002,2003): #2018):\n",
    "    #init arrays\n",
    "    init_data=0\n",
    "    map_sum,map_cnt,map_max = np.zeros([imap_lats,imap_lons]),np.zeros([imap_lats,imap_lons]),np.zeros([imap_lats,imap_lons])\n",
    "    map_sum_recov,map_cnt_recov = np.zeros([imap_lats,imap_lons]),np.zeros([imap_lats,imap_lons])\n",
    "#    for inum_storm in range(0,110): \n",
    "    for inum_storm in range(19,20): \n",
    "        filename = dir_out + str(iyr_storm) + '/' + str(inum_storm).zfill(3) + '_interpolated_track.nc'\n",
    "        exists = os.path.isfile(filename)\n",
    "        if not exists:\n",
    "            continue\n",
    "        print(filename)\n",
    "        ds_storm_info=xr.open_dataset(filename)\n",
    "        ds_storm_info = ds_storm_info.sel(j2=0)\n",
    "        ds_storm_info.close()\n",
    "        filename = dir_out + str(iyr_storm) + '/' + str(inum_storm).zfill(3) + '_combined_data.nc'\n",
    "        ds_all = xr.open_dataset(filename)\n",
    "        ds_all['spd']=np.sqrt(ds_all.uwnd**2+ds_all.vwnd**2)\n",
    "        ds_all.close()\n",
    "        filename = dir_out + str(iyr_storm) + '/' + str(inum_storm).zfill(3) + '_MLD_data_v2.nc'\n",
    "        ds_all2 = xr.open_dataset(filename)\n",
    "        ds_all2.close()\n",
    "        if abs(ds_all.lon[-1]-ds_all.lon[0])>180:\n",
    "            ds_all.coords['lon'] = np.mod(ds_all['lon'], 360)\n",
    "            ds_storm_info['lon'] = np.mod(ds_storm_info['lon'], 360)\n",
    "        max_lat = ds_storm_info.lat.max()       \n",
    "        \n",
    "        xdim,ydim,tdim = ds_all.lon.shape[0],ds_all.lat.shape[0],ds_all.time.shape[0]\n",
    "        \n",
    "        ds_all['tdif_dy'] = (ds_all.time-ds_all.closest_storm_time_np64)/np.timedelta64(1, 'D')\n",
    "        ssta = ds_all.analysed_sst-ds_all.analysed_sst_clim\n",
    "        sstps = ds_all.sst_prestorm_clim\n",
    "#        sstps = subset.analysed_sst[5,:,:]-subset.analysed_sst_clim[5,:,:]\n",
    "        ds_all['sst_anomaly']= ssta - sstps    \n",
    "\n",
    "    #remove all data outsice 100km/800km or cold wake >0 or <-10\n",
    "        if max_lat<0:\n",
    "            cond = ((((ds_all.dist_from_storm_km<100) & (ds_all.side_of_storm<=0)) | \n",
    "            ((ds_all.dist_from_storm_km<800) & (ds_all.side_of_storm>0))) \n",
    "            & (ds_all.coldwake_max<=-.1) & (ds_all.coldwake_max>=-10))\n",
    "        else:\n",
    "            cond = ((((ds_all.dist_from_storm_km<800) & (ds_all.side_of_storm<0)) | \n",
    "            ((ds_all.dist_from_storm_km<100) & (ds_all.side_of_storm>=0))) \n",
    "            & (ds_all.coldwake_max<=-.1) & (ds_all.coldwake_max>=-10))\n",
    "        subset = ds_all.where(cond)\n",
    "        subset2 = ds_all2.where(cond)\n",
    "\n",
    "#array with only anomaly > -1K\n",
    "        if max_lat<0:\n",
    "            cond = ((((ds_all.dist_from_storm_km<100) & (ds_all.side_of_storm<=0)) | \n",
    "            ((ds_all.dist_from_storm_km<800) & (ds_all.side_of_storm>0))) \n",
    "            & (ds_all.coldwake_max<=-1) & (ds_all.coldwake_max>=-10))\n",
    "        else:\n",
    "            cond = ((((ds_all.dist_from_storm_km<800) & (ds_all.side_of_storm<0)) | \n",
    "            ((ds_all.dist_from_storm_km<100) & (ds_all.side_of_storm>=0))) \n",
    "            & (ds_all.coldwake_max<=-1) & (ds_all.coldwake_max>=-10))\n",
    "        subset_big = ds_all.where(cond)\n",
    "        subset2_big = ds_all2.where(cond)\n",
    "        \n",
    "        #create coldwake anomaly with nan for all values before wmo storm time\n",
    "        ssta = subset.analysed_sst-subset.analysed_sst_clim\n",
    "        sstps = subset.sst_prestorm_clim\n",
    "#        sstps = subset.analysed_sst[5,:,:]-subset.analysed_sst_clim[5,:,:]\n",
    "        subset['sst_anomaly']= ssta - sstps    \n",
    "        ssta = subset_big.analysed_sst-subset_big.analysed_sst_clim\n",
    "        sstps = subset.sst_prestorm_clim\n",
    "#        sstps = subset_big.analysed_sst[5,:,:]-subset_big.analysed_sst_clim[5,:,:]\n",
    "        subset_big['sst_anomaly']=ssta - sstps\n",
    "\n",
    "        \n",
    "#only keep sst_anomaly from 5 days before storm to cold wake recovery\n",
    "#        ds_all['sst_anomaly']=ds_all.analysed_sst-ds_all.sst_prestorm\n",
    "        for i in range(ydim):\n",
    "            for j in range(xdim):\n",
    "                if np.isnan(ds_all.coldwake_max[i,j]):\n",
    "                    continue\n",
    "                boolArr = (ds_all.tdif_dy[:,i,j] > 0)\n",
    "                result = np.where(boolArr)[0][0]\n",
    "                istart = int(result-5)\n",
    "                if istart<0:\n",
    "                    istart=0\n",
    "                iend = int(result+ds_all.coldwake_dytorecovery[i,j].data)\n",
    "                if iend>tdim:\n",
    "                    iend=tdim\n",
    "#                subset.sst_anomaly[i,j,:istart]=np.nan\n",
    "#                subset.sst_anomaly[i,j,iend:]=np.nan\n",
    "#                subset_big.sst_anomaly[i,j,:istart]=np.nan\n",
    "#                subset_big.sst_anomaly[i,j,iend:]=np.nan\n",
    "                subset.sst_anomaly[:istart,i,j]=np.nan\n",
    "                subset.sst_anomaly[iend:,i,j]=np.nan\n",
    "                subset_big.sst_anomaly[:istart,i,j]=np.nan\n",
    "                subset_big.sst_anomaly[iend:,i,j]=np.nan\n",
    "#end only keep sst_anomaly code\n",
    "        \n",
    "        \n",
    "        #create array with day.frac since closest storm passage\n",
    "        tdif_dy = (subset.time-subset.closest_storm_time_np64)/np.timedelta64(1, 'D')\n",
    "        tdif_dy2 = (subset_big.time-subset_big.closest_storm_time_np64)/np.timedelta64(1, 'D')\n",
    "    #    tdif_dy = tdif_dy.where(tdif_dy>=0,np.nan)\n",
    "        subset['tdif_dy']=tdif_dy\n",
    "        subset_big['tdif_dy']=tdif_dy2\n",
    "\n",
    "\n",
    " \n",
    "        pdim=xdim*ydim\n",
    "        pdim3=tdim*xdim*ydim\n",
    "        print(xdim*ydim)\n"
   ]
  },
  {
   "cell_type": "code",
   "execution_count": 151,
   "metadata": {},
   "outputs": [
    {
     "ename": "AttributeError",
     "evalue": "'Dataset' object has no attribute 'tdif_dy'",
     "output_type": "error",
     "traceback": [
      "\u001b[1;31m---------------------------------------------------------------------------\u001b[0m",
      "\u001b[1;31mAttributeError\u001b[0m                            Traceback (most recent call last)",
      "\u001b[1;32m<ipython-input-151-2ba30907d256>\u001b[0m in \u001b[0;36m<module>\u001b[1;34m\u001b[0m\n\u001b[0;32m      5\u001b[0m \u001b[1;31m#plt.plot(ds_all.tdif_dy[:,40,60],ds_all.sst_anomaly[:,40,60],'.')\u001b[0m\u001b[1;33m\u001b[0m\u001b[1;33m\u001b[0m\u001b[1;33m\u001b[0m\u001b[0m\n\u001b[0;32m      6\u001b[0m \u001b[1;31m#plt.grid()\u001b[0m\u001b[1;33m\u001b[0m\u001b[1;33m\u001b[0m\u001b[1;33m\u001b[0m\u001b[0m\n\u001b[1;32m----> 7\u001b[1;33m \u001b[0mplt\u001b[0m\u001b[1;33m.\u001b[0m\u001b[0mplot\u001b[0m\u001b[1;33m(\u001b[0m\u001b[0mds_all\u001b[0m\u001b[1;33m.\u001b[0m\u001b[0mtdif_dy\u001b[0m\u001b[1;33m[\u001b[0m\u001b[1;33m:\u001b[0m\u001b[1;33m,\u001b[0m\u001b[1;36m40\u001b[0m\u001b[1;33m,\u001b[0m\u001b[1;36m60\u001b[0m\u001b[1;33m]\u001b[0m\u001b[1;33m,\u001b[0m\u001b[0mds_all\u001b[0m\u001b[1;33m.\u001b[0m\u001b[0manalysed_sst\u001b[0m\u001b[1;33m[\u001b[0m\u001b[1;33m:\u001b[0m\u001b[1;33m,\u001b[0m\u001b[1;36m40\u001b[0m\u001b[1;33m,\u001b[0m\u001b[1;36m60\u001b[0m\u001b[1;33m]\u001b[0m\u001b[1;33m-\u001b[0m\u001b[0mds_all\u001b[0m\u001b[1;33m.\u001b[0m\u001b[0manalysed_sst_clim\u001b[0m\u001b[1;33m[\u001b[0m\u001b[1;33m:\u001b[0m\u001b[1;33m,\u001b[0m\u001b[1;36m40\u001b[0m\u001b[1;33m,\u001b[0m\u001b[1;36m60\u001b[0m\u001b[1;33m]\u001b[0m\u001b[1;33m,\u001b[0m\u001b[1;34m'.'\u001b[0m\u001b[1;33m)\u001b[0m\u001b[1;33m\u001b[0m\u001b[1;33m\u001b[0m\u001b[0m\n\u001b[0m\u001b[0;32m      8\u001b[0m \u001b[0mplt\u001b[0m\u001b[1;33m.\u001b[0m\u001b[0mgrid\u001b[0m\u001b[1;33m(\u001b[0m\u001b[1;33m)\u001b[0m\u001b[1;33m\u001b[0m\u001b[1;33m\u001b[0m\u001b[0m\n",
      "\u001b[1;32m~\\Miniconda3\\envs\\satenv\\lib\\site-packages\\xarray\\core\\common.py\u001b[0m in \u001b[0;36m__getattr__\u001b[1;34m(self, name)\u001b[0m\n\u001b[0;32m    177\u001b[0m                     \u001b[1;32mreturn\u001b[0m \u001b[0msource\u001b[0m\u001b[1;33m[\u001b[0m\u001b[0mname\u001b[0m\u001b[1;33m]\u001b[0m\u001b[1;33m\u001b[0m\u001b[1;33m\u001b[0m\u001b[0m\n\u001b[0;32m    178\u001b[0m         raise AttributeError(\"%r object has no attribute %r\" %\n\u001b[1;32m--> 179\u001b[1;33m                              (type(self).__name__, name))\n\u001b[0m\u001b[0;32m    180\u001b[0m \u001b[1;33m\u001b[0m\u001b[0m\n\u001b[0;32m    181\u001b[0m     \u001b[1;32mdef\u001b[0m \u001b[0m__setattr__\u001b[0m\u001b[1;33m(\u001b[0m\u001b[0mself\u001b[0m\u001b[1;33m,\u001b[0m \u001b[0mname\u001b[0m\u001b[1;33m,\u001b[0m \u001b[0mvalue\u001b[0m\u001b[1;33m)\u001b[0m\u001b[1;33m:\u001b[0m\u001b[1;33m\u001b[0m\u001b[1;33m\u001b[0m\u001b[0m\n",
      "\u001b[1;31mAttributeError\u001b[0m: 'Dataset' object has no attribute 'tdif_dy'"
     ]
    },
    {
     "data": {
      "image/png": "[encoded data removed]",
      "text/plain": [
       "<Figure size 432x288 with 1 Axes>"
      ]
     },
     "metadata": {
      "needs_background": "light"
     },
     "output_type": "display_data"
    }
   ],
   "source": [
    "#plt.pcolormesh(subset_big.sst_anomaly[35,:,:])\n",
    "#plt.grid()\n",
    "plt.plot(subset.tdif_dy[:,40,60],subset.sst_anomaly[:,40,60],'.')\n",
    "#plt.plot(subset.sst_anomaly[:,40,60],'.')\n",
    "#plt.plot(ds_all.tdif_dy[:,40,60],ds_all.sst_anomaly[:,40,60],'.')\n",
    "#plt.grid()\n",
    "plt.plot(ds_all.tdif_dy[:,40,60],ds_all.analysed_sst[:,40,60]-ds_all.analysed_sst_clim[:,40,60],'.')\n",
    "plt.grid()"
   ]
  },
  {
   "cell_type": "code",
   "execution_count": 142,
   "metadata": {},
   "outputs": [
    {
     "data": {
      "text/plain": [
       "<xarray.DataArray 'tdif_dy' (time: 50)>\n",
       "array([nan, nan, nan, nan, nan, nan, nan, nan, nan, nan, nan, nan, nan, nan,\n",
       "       nan, nan, nan, nan, nan, nan, nan, nan, nan, nan, nan, nan, nan, nan,\n",
       "       nan, nan, nan, nan, nan, nan, nan, nan, nan, nan, nan, nan, nan, nan,\n",
       "       nan, nan, nan, nan, nan, nan, nan, nan])\n",
       "Coordinates:\n",
       "    lat      float64 -28.33\n",
       "    lon      float64 94.5\n",
       "  * time     (time) datetime64[ns] 2002-04-01T12:00:00 ... 2002-05-20T12:00:00"
      ]
     },
     "execution_count": 142,
     "metadata": {},
     "output_type": "execute_result"
    }
   ],
   "source": [
    "subset.tdif_dy[:,i,j] "
   ]
  },
  {
   "cell_type": "code",
   "execution_count": 128,
   "metadata": {},
   "outputs": [
    {
     "name": "stdout",
     "output_type": "stream",
     "text": [
      "37.0\n",
      "76.0\n"
     ]
    }
   ],
   "source": [
    "i,j = 40,60\n",
    "print(ds_all.closest_storm_index[i,j].data-5)\n",
    "print(ds_all.closest_storm_index[i,j].data+ds_all.coldwake_dytorecovery[i,j].data)"
   ]
  },
  {
   "cell_type": "code",
   "execution_count": 139,
   "metadata": {},
   "outputs": [
    {
     "name": "stdout",
     "output_type": "stream",
     "text": [
      "11\n",
      "<xarray.DataArray 'tdif_dy' (time: 50)>\n",
      "array([-10.25,  -9.25,  -8.25,  -7.25,  -6.25,  -5.25,  -4.25,  -3.25,  -2.25,\n",
      "        -1.25,  -0.25,   0.75,   1.75,   2.75,   3.75,   4.75,   5.75,   6.75,\n",
      "         7.75,   8.75,   9.75,  10.75,  11.75,  12.75,  13.75,  14.75,  15.75,\n",
      "        16.75,  17.75,  18.75,  19.75,  20.75,  21.75,  22.75,  23.75,  24.75,\n",
      "        25.75,  26.75,  27.75,  28.75,  29.75,  30.75,  31.75,  32.75,  33.75,\n",
      "        34.75,  35.75,  36.75,  37.75,  38.75])\n",
      "Coordinates:\n",
      "    lat      float64 -23.8\n",
      "    lon      float64 92.99\n",
      "  * time     (time) datetime64[ns] 2002-04-01T12:00:00 ... 2002-05-20T12:00:00\n",
      "<xarray.DataArray 'tdif_dy' ()>\n",
      "array(0.75)\n",
      "Coordinates:\n",
      "    lat      float64 -23.8\n",
      "    lon      float64 92.99\n",
      "    time     datetime64[ns] 2002-04-12T12:00:00\n"
     ]
    }
   ],
   "source": [
    "#ds_all.closest_storm_index\n",
    "boolArr = (subset.tdif_dy[:,40,60] > 0)\n",
    "result = np.where(boolArr)[0][0]\n",
    "print(result)\n",
    "print(subset.tdif_dy[:,40,60])\n",
    "print(subset.tdif_dy[result,40,60])"
   ]
  },
  {
   "cell_type": "code",
   "execution_count": null,
   "metadata": {},
   "outputs": [],
   "source": [
    "cbin7 = np.arange(-10,50,1)  #cold wake recovery as function of time\n",
    "bins = cbin7\n",
    "x= np.reshape(subset.tdif_dy.data,(pdim3))\n",
    "v = np.reshape(subset.sst_anomaly.data,(pdim3))\n",
    "hist7,mids7=stats.binned_statistic(x,v,'count', bins)[0],0.5*(bins[1:]+bins[:-1])\n",
    "sum7=stats.binned_statistic(x,v, 'sum', bins)[0]\n"
   ]
  },
  {
   "cell_type": "code",
   "execution_count": null,
   "metadata": {},
   "outputs": [],
   "source": [
    "plt.imshow(subset.sst_anomaly[0,:,:])\n",
    "plt.grid()"
   ]
  },
  {
   "cell_type": "code",
   "execution_count": null,
   "metadata": {},
   "outputs": [],
   "source": [
    "plt.plot(subset.sst_anomaly[:,62,62])"
   ]
  },
  {
   "cell_type": "code",
   "execution_count": null,
   "metadata": {},
   "outputs": [],
   "source": [
    "#iyr_storm=2016\n",
    "#filename='f:/data/tc_wakes/database/results/hist_sum_'+str(iyr_storm)+'.nc'\n",
    "#ds=xr.open_dataset(filename)\n",
    "#ds.close()\n",
    "#ds\n"
   ]
  },
  {
   "cell_type": "code",
   "execution_count": null,
   "metadata": {},
   "outputs": [],
   "source": [
    "(ds.sum1/ds.cnt1).plot()"
   ]
  },
  {
   "cell_type": "code",
   "execution_count": 79,
   "metadata": {
    "scrolled": true
   },
   "outputs": [
    {
     "data": {
      "text/plain": [
       "<matplotlib.collections.QuadMesh at 0x20e3be0ee80>"
      ]
     },
     "execution_count": 79,
     "metadata": {},
     "output_type": "execute_result"
    },
    {
     "data": {
      "image/png": "[encoded data removed]",
      "text/plain": [
       "<Figure size 432x288 with 2 Axes>"
      ]
     },
     "metadata": {
      "needs_background": "light"
     },
     "output_type": "display_data"
    }
   ],
   "source": [
    "(ds_all.map_sum_recov/ds_all.map_cnt_recov).plot(vmin=0,vmax=30)"
   ]
  },
  {
   "cell_type": "code",
   "execution_count": null,
   "metadata": {},
   "outputs": [],
   "source": [
    "(ds_all.cnt1/ds_all.cnt1.sum()).sum()\n",
    "#print(cbin1[0:3])"
   ]
  },
  {
   "cell_type": "code",
   "execution_count": null,
   "metadata": {},
   "outputs": [],
   "source": [
    "ds_all.cnt2"
   ]
  },
  {
   "cell_type": "code",
   "execution_count": 152,
   "metadata": {},
   "outputs": [
    {
     "data": {
      "image/png": "[encoded data removed]",
      "text/plain": [
       "<Figure size 864x288 with 2 Axes>"
      ]
     },
     "metadata": {
      "needs_background": "light"
     },
     "output_type": "display_data"
    }
   ],
   "source": [
    "dir_figs = 'f:/data/tc_wakes/database/figs/hist/'\n",
    "plt.figure(1, figsize=(12, 4))\n",
    "plt.subplot(121)\n",
    "plt.bar(cbin1[0:-1],ds_all.cnt1/ds_all.cnt1.sum()/abs(cbin1[0]-cbin1[1]),.087)\n",
    "plt.xlabel('Cold wake maximum (K)')\n",
    "plt.xlim(-4,0)\n",
    "plt.ylim(0,1.4)\n",
    "plt.ylabel('PDF (K$^-1$)')\n",
    "plt.subplot(122)\n",
    "plt.bar(cbin2[0:-1],ds_all.cnt2/ds_all.cnt2.sum()/abs(cbin2[0]-cbin2[1]),.99)\n",
    "plt.xlabel('Post-storm day of cold wake maximum (dys)')\n",
    "plt.ylabel('PDF (Day$^-1$)')\n",
    "plt.xlim(0,5)\n",
    "plt.ylim(0,.2)\n",
    "plt.savefig(dir_figs+'coldwake_max2.png')\n",
    "plt.show()"
   ]
  },
  {
   "cell_type": "code",
   "execution_count": 153,
   "metadata": {},
   "outputs": [
    {
     "data": {
      "image/png": "[encoded data removed]",
      "text/plain": [
       "<Figure size 864x288 with 2 Axes>"
      ]
     },
     "metadata": {
      "needs_background": "light"
     },
     "output_type": "display_data"
    }
   ],
   "source": [
    "dir_figs = 'f:/data/tc_wakes/database/figs/hist/'\n",
    "plt.figure(1, figsize=(12, 4))\n",
    "plt.subplot(121)\n",
    "plt.plot(cbin3[0:-1],ds_all.sum3/ds_all.cnt3)\n",
    "plt.xlabel('Days until SST recovery')\n",
    "plt.ylabel('$\\Delta$SST (K)')\n",
    "plt.subplot(122)\n",
    "plt.plot(cbin4[0:-1],ds_all.sum4/ds_all.cnt4)\n",
    "plt.xlim(0,250)\n",
    "plt.xlabel('MLD (m)')\n",
    "plt.ylabel('$\\Delta$SST (K)')\n",
    "plt.savefig(dir_figs+'coldwake_recovery_mld2.png')\n",
    "plt.show()"
   ]
  },
  {
   "cell_type": "code",
   "execution_count": 154,
   "metadata": {},
   "outputs": [
    {
     "data": {
      "image/png": "[encoded data removed]",
      "text/plain": [
       "<Figure size 864x288 with 2 Axes>"
      ]
     },
     "metadata": {
      "needs_background": "light"
     },
     "output_type": "display_data"
    }
   ],
   "source": [
    "dir_figs = 'f:/data/tc_wakes/database/figs/hist/'\n",
    "plt.figure(1, figsize=(12, 4))\n",
    "plt.subplot(121)\n",
    "plt.plot(cbin3[0:-1],ds_all.sum3/ds_all.cnt3)\n",
    "plt.xlabel('Days until SST recovery')\n",
    "plt.ylabel('$\\Delta$SST (K)')\n",
    "plt.subplot(122)\n",
    "plt.plot(cbin4[0:-1],ds_all.sum4a/ds_all.cnt4a)\n",
    "plt.xlim(0,250)\n",
    "plt.xlabel('Daily MLD (m)')\n",
    "plt.ylabel('$\\Delta$SST (K)')\n",
    "plt.savefig(dir_figs+'coldwake_recovery_dymld2.png')\n",
    "plt.show()"
   ]
  },
  {
   "cell_type": "code",
   "execution_count": 155,
   "metadata": {},
   "outputs": [
    {
     "data": {
      "image/png": "[encoded data removed]",
      "text/plain": [
       "<Figure size 432x288 with 1 Axes>"
      ]
     },
     "metadata": {
      "needs_background": "light"
     },
     "output_type": "display_data"
    }
   ],
   "source": [
    "(ds_all.sum6/ds_all.cnt6).plot()  #storm translational speed versus cold wake anomaly\n",
    "plt.xlabel('Storm translation speed (km hr$^-1$)')\n",
    "plt.ylabel('Coldwake max (K)')\n",
    "plt.xlim(0,100)\n",
    "plt.ylim(-1.25,-.5)\n",
    "plt.savefig(dir_figs+'coldwake_max_translation_speed2.png')\n"
   ]
  },
  {
   "cell_type": "code",
   "execution_count": 156,
   "metadata": {},
   "outputs": [
    {
     "data": {
      "image/png": "[encoded data removed]",
      "text/plain": [
       "<Figure size 432x288 with 1 Axes>"
      ]
     },
     "metadata": {
      "needs_background": "light"
     },
     "output_type": "display_data"
    }
   ],
   "source": [
    "(ds_all.sum7/ds_all.cnt7).plot()  #storm recovery time versus cold wake anomaly\n",
    "plt.xlabel('Recovery time (days)')\n",
    "plt.ylabel('Coldwake (K)')\n",
    "plt.xlim(0,100)\n",
    "plt.ylim(-1.25,-.5)\n",
    "plt.savefig(dir_figs+'coldwake_max_recovery_time2.png')\n"
   ]
  },
  {
   "cell_type": "code",
   "execution_count": 157,
   "metadata": {},
   "outputs": [
    {
     "name": "stdout",
     "output_type": "stream",
     "text": [
      "2817458.0 117797.0\n",
      "<xarray.DataArray 'cnt7' ()>\n",
      "array(5062293.) <xarray.DataArray 'cnt7' ()>\n",
      "array(209170.)\n"
     ]
    },
    {
     "data": {
      "text/plain": [
       "[<matplotlib.lines.Line2D at 0x20e520f7240>]"
      ]
     },
     "execution_count": 157,
     "metadata": {},
     "output_type": "execute_result"
    },
    {
     "data": {
      "image/png": "[encoded data removed]",
      "text/plain": [
       "<Figure size 432x288 with 1 Axes>"
      ]
     },
     "metadata": {
      "needs_background": "light"
     },
     "output_type": "display_data"
    }
   ],
   "source": [
    "print(ds_all.cnt7[20].data,ds.cnt7[20].data)\n",
    "print(ds_all.cnt7.max(),ds.cnt7.max())\n",
    "plt.plot(ds_all.cnt7)\n",
    "plt.plot(ds.cnt7)"
   ]
  },
  {
   "cell_type": "code",
   "execution_count": 158,
   "metadata": {},
   "outputs": [
    {
     "data": {
      "image/png": "[encoded data removed]",
      "text/plain": [
       "<Figure size 432x288 with 1 Axes>"
      ]
     },
     "metadata": {
      "needs_background": "light"
     },
     "output_type": "display_data"
    }
   ],
   "source": [
    "plt.plot(cbin7[0:-1],ds_all.sum7/ds_all.cnt7)\n",
    "plt.xlabel('Time since storm (days)')\n",
    "plt.ylabel('SST anomaly (K)')\n",
    "plt.xlim(0,48)\n",
    "plt.ylim(-1,0)\n",
    "plt.savefig(dir_figs+'sst_anomaly_time2.png')\n"
   ]
  },
  {
   "cell_type": "code",
   "execution_count": 160,
   "metadata": {},
   "outputs": [
    {
     "data": {
      "image/png": "[encoded data removed]",
      "text/plain": [
       "<Figure size 432x288 with 2 Axes>"
      ]
     },
     "metadata": {
      "needs_background": "light"
     },
     "output_type": "display_data"
    }
   ],
   "source": [
    "(ds_all.sum8/ds_all.cnt8).plot(vmin=-1,vmax=0,cmap='jet')\n",
    "plt.ylabel('Storm translation speed (km hr$^-1$)')\n",
    "plt.xlabel('WMO Wind Speed (ms$^{-2}$)')\n",
    "plt.xlim(0,175)\n",
    "plt.ylim(0,125)\n",
    "plt.savefig(dir_figs+'wnd_translation_speed2.png')\n"
   ]
  },
  {
   "cell_type": "code",
   "execution_count": 161,
   "metadata": {},
   "outputs": [
    {
     "data": {
      "text/plain": [
       "(array([2.000e+00, 5.000e+00, 5.000e+00, 9.000e+00, 4.100e+01, 6.800e+01,\n",
       "        1.740e+02, 5.510e+02, 1.544e+03, 2.181e+03]),\n",
       " array([-5.08981205, -4.59182021, -4.09382837, -3.59583653, -3.09784469,\n",
       "        -2.59985285, -2.10186101, -1.60386917, -1.10587733, -0.60788549,\n",
       "        -0.10989365]),\n",
       " <a list of 10 Patch objects>)"
      ]
     },
     "execution_count": 161,
     "metadata": {},
     "output_type": "execute_result"
    },
    {
     "data": {
      "image/png": "[encoded data removed]",
      "text/plain": [
       "<Figure size 432x288 with 1 Axes>"
      ]
     },
     "metadata": {
      "needs_background": "light"
     },
     "output_type": "display_data"
    }
   ],
   "source": [
    "(ds_all.sum9/ds_all.cnt9).plot()"
   ]
  },
  {
   "cell_type": "code",
   "execution_count": 162,
   "metadata": {},
   "outputs": [
    {
     "ename": "NameError",
     "evalue": "name 'bins1' is not defined",
     "output_type": "error",
     "traceback": [
      "\u001b[1;31m---------------------------------------------------------------------------\u001b[0m",
      "\u001b[1;31mNameError\u001b[0m                                 Traceback (most recent call last)",
      "\u001b[1;32m<ipython-input-162-3fc7de1662ff>\u001b[0m in \u001b[0;36m<module>\u001b[1;34m\u001b[0m\n\u001b[0;32m      1\u001b[0m \u001b[0mplt\u001b[0m\u001b[1;33m.\u001b[0m\u001b[0mfigure\u001b[0m\u001b[1;33m(\u001b[0m\u001b[1;33m)\u001b[0m\u001b[1;33m\u001b[0m\u001b[1;33m\u001b[0m\u001b[0m\n\u001b[1;32m----> 2\u001b[1;33m \u001b[0mplt\u001b[0m\u001b[1;33m.\u001b[0m\u001b[0mpcolor\u001b[0m\u001b[1;33m(\u001b[0m\u001b[0mbins1\u001b[0m\u001b[1;33m,\u001b[0m\u001b[0mbins2\u001b[0m\u001b[1;33m,\u001b[0m\u001b[0mH\u001b[0m\u001b[1;33m.\u001b[0m\u001b[0mtranspose\u001b[0m\u001b[1;33m(\u001b[0m\u001b[1;33m)\u001b[0m\u001b[1;33m)\u001b[0m\u001b[1;33m\u001b[0m\u001b[1;33m\u001b[0m\u001b[0m\n\u001b[0m\u001b[0;32m      3\u001b[0m \u001b[0mplt\u001b[0m\u001b[1;33m.\u001b[0m\u001b[0mgrid\u001b[0m\u001b[1;33m(\u001b[0m\u001b[1;33m)\u001b[0m\u001b[1;33m\u001b[0m\u001b[1;33m\u001b[0m\u001b[0m\n\u001b[0;32m      4\u001b[0m \u001b[0mplt\u001b[0m\u001b[1;33m.\u001b[0m\u001b[0mxlabel\u001b[0m\u001b[1;33m(\u001b[0m\u001b[1;34m'v1'\u001b[0m\u001b[1;33m)\u001b[0m\u001b[1;33m\u001b[0m\u001b[1;33m\u001b[0m\u001b[0m\n\u001b[0;32m      5\u001b[0m \u001b[0mplt\u001b[0m\u001b[1;33m.\u001b[0m\u001b[0mylabel\u001b[0m\u001b[1;33m(\u001b[0m\u001b[1;34m'v2'\u001b[0m\u001b[1;33m)\u001b[0m\u001b[1;33m\u001b[0m\u001b[1;33m\u001b[0m\u001b[0m\n",
      "\u001b[1;31mNameError\u001b[0m: name 'bins1' is not defined"
     ]
    },
    {
     "data": {
      "text/plain": [
       "<Figure size 432x288 with 0 Axes>"
      ]
     },
     "metadata": {},
     "output_type": "display_data"
    }
   ],
   "source": [
    "plt.figure()\n",
    "plt.pcolor(bins1,bins2,H.transpose())\n",
    "plt.grid()\n",
    "plt.xlabel('v1')\n",
    "plt.ylabel('v2')\n",
    "plt.colorbar()\n",
    "plt.savefig(dir_figs+'coldwake_max2.png')\n",
    "plt.show()"
   ]
  },
  {
   "cell_type": "code",
   "execution_count": null,
   "metadata": {},
   "outputs": [],
   "source": []
  },
  {
   "cell_type": "code",
   "execution_count": null,
   "metadata": {},
   "outputs": [],
   "source": []
  },
  {
   "cell_type": "code",
   "execution_count": null,
   "metadata": {},
   "outputs": [],
   "source": []
  },
  {
   "cell_type": "code",
   "execution_count": null,
   "metadata": {
    "scrolled": true
   },
   "outputs": [],
   "source": [
    "\n",
    "# coding: utf-8\n",
    "\n",
    "# In[1]:\n",
    "\n",
    "\n",
    "#plotting and data analysis for global cold wakes\n",
    "#from netCDF4 import Dataset  # http://code.google.com/p/netcdf4-python/\n",
    "import os\n",
    "import time\n",
    "import datetime as dt\n",
    "import xarray as xr\n",
    "from datetime import datetime\n",
    "import pandas\n",
    "import matplotlib.pyplot as plt\n",
    "import numpy as np\n",
    "import math\n",
    "import geopy.distance\n",
    "from math import sin, pi\n",
    "from scipy import interpolate\n",
    "\n",
    "#functions for running storm data\n",
    "import sys\n",
    "\n",
    "####################you will need to change some paths here!#####################\n",
    "#list of input directories\n",
    "dir_storm_info='f:/data/tc_wakes/database/info/'\n",
    "dir_out='f:/data/tc_wakes/database/sst/'\n",
    "#################################################################################\n",
    "\n",
    "#start to look at data and make some pdfs\n",
    "\n",
    "date_1858 = dt.datetime(1858,11,17,0,0,0) # start date is 11/17/1958\n",
    "\n",
    "#init arrays\n",
    "init_data=0\n",
    "num1=np.zeros([101,101,201,101])\n",
    "sum1=np.zeros([101,101,201,101])\n",
    "num2=np.zeros([101,101,201,101])\n",
    "sum2=np.zeros([101,101,201,101])\n",
    "num3=np.zeros(101)\n",
    "num4=np.zeros(101)\n",
    "num5=np.zeros(101)\n",
    "sum5=np.zeros(101)\n",
    "num6=np.zeros(101)\n",
    "sum6=np.zeros(101)\n",
    "sum7=np.zeros(101)\n",
    "num7=np.zeros(101)\n",
    "dim1,dim2,dim3,dim4,dim5,dim6,dim7,dim8=np.zeros(101),np.zeros(101),np.zeros(101),np.zeros(101),np.zeros(101),np.zeros(201),np.zeros(101),np.zeros(101)\n",
    "\n",
    "map_lats=np.arange(-90,90,.25)\n",
    "map_lons=np.arange(-180,180,.25)\n",
    "imap_lats = map_lats.size\n",
    "imap_lons = map_lons.size\n",
    "map_sum,map_cnt,map_max = np.zeros([imap_lats,imap_lons]),np.zeros([imap_lats,imap_lons]),np.zeros([imap_lats,imap_lons])\n",
    "  \n",
    "iyr_storm = 2003\n",
    "for inum_storm in range(65,66): #(0,100): #100):\n",
    "    filename = dir_out + str(iyr_storm) + '/' + str(inum_storm).zfill(3) + '_interpolated_track.nc'\n",
    "    exists = os.path.isfile(filename)\n",
    "    if not exists:\n",
    "        continue\n",
    "    print(filename)\n",
    "    ds_storm_info=xr.open_dataset(filename)\n",
    "    ds_storm_info = ds_storm_info.sel(j2=0)\n",
    "    ds_storm_info.close()\n",
    "    filename = dir_out + str(iyr_storm) + '/' + str(inum_storm).zfill(3) + '_combined_data_all.nc'\n",
    "    ds_all = xr.open_dataset(filename)\n",
    "    ds_all['spd']=np.sqrt(ds_all.uwnd**2+ds_all.vwnd**2)\n",
    "    ds_all.close()\n",
    "    if abs(ds_all.lon[-1]-ds_all.lon[0])>180:\n",
    "        ds_all.coords['lon'] = np.mod(ds_all['lon'], 360)\n",
    "        ds_storm_info['lon'] = np.mod(ds_storm_info['lon'], 360)\n",
    "    max_lat = ds_storm_info.lat.max()\n",
    "    #remove all data outsice 100km/800km or cold wake >0 or <-10\n",
    "    if max_lat<0:\n",
    "        cond = ((((ds_all.dist_from_storm_km<100) & (ds_all.side_of_storm<=0)) | \n",
    "        ((ds_all.dist_from_storm_km<800) & (ds_all.side_of_storm>0))) \n",
    "        & (ds_all.coldwake_max<=0) & (ds_all.coldwake_max>=-10))\n",
    "    else:\n",
    "        cond = ((((ds_all.dist_from_storm_km<800) & (ds_all.side_of_storm<0)) | \n",
    "        ((ds_all.dist_from_storm_km<100) & (ds_all.side_of_storm>=0))) \n",
    "        & (ds_all.coldwake_max<=0) & (ds_all.coldwake_max>=-10))\n",
    "    subset = ds_all.where(cond)\n",
    "\n",
    "    xdim,ydim,tdim = ds_all.lon.shape[0],ds_all.lat.shape[0],ds_all.time.shape[0]\n",
    "    \n",
    "    #change hr to recovery to day to recovery\n",
    "    subset['coldwake_dytorecovery'] = subset.coldwake_hrtorecovery/24.\n",
    "    \n",
    "    #calculate the historgram and mean for the cold wakes\n",
    "    cbin1 = np.arange(-10, 0, 0.1)  #cold wake bins\n",
    "    subset_sum1=subset.groupby_bins('coldwake_max',cbin1).sum()  #sums number\n",
    "    subset_cnt1=subset.groupby_bins('coldwake_max',cbin1).count()    #sums variable  \n",
    "    cbin2 = np.arange(0,24*6)  #hour to max\n",
    "    subset_sum2=subset.groupby_bins('coldwake_hrtomaxcold',cbin2).sum()  #sums number\n",
    "    subset_cnt2=subset.groupby_bins('coldwake_hrtomaxcold',cbin2).count()    #sums variable\n",
    "    cbin3 = np.arange(0,50)  #dy to recovery\n",
    "    subset_sum3=subset.groupby_bins('coldwake_dytorecovery',cbin3).sum()  #sums number\n",
    "    subset_cnt3=subset.groupby_bins('coldwake_dytorecovery',cbin3).count()    #sums variable\n",
    "    cbin4 = np.arange(0,500)  #mld\n",
    "    subset_sum4=subset.groupby_bins('dbss_obml',cbin4).sum()  #sums number\n",
    "    subset_cnt4=subset.groupby_bins('dbss_obml',cbin4).count()    #sums variable\n",
    "    cbin5 = np.arange(0,200)  #mld\n",
    "    subset_sum5=subset.groupby_bins('spd',cbin5).sum()  #sums number\n",
    "    subset_cnt5=subset.groupby_bins('spd',cbin5).count()    #sums variable\n",
    "\n",
    "    sdate = np.empty([ydim,xdim], dtype=dt.datetime)    \n",
    "    for i in range(0,xdim):\n",
    "        for j in range(0,ydim):\n",
    "            sdate[j,i] = np.datetime64(date_1858 + dt.timedelta(days=float(ds_all.closest_storm_time[j,i])))\n",
    "    #xsdate=xr.DataArray(sdate, coords={'lat': ds_data.lat.values, 'lon':ds_data.lon.values}, dims=('lat', 'lon'))        \n",
    "    sdate2 = np.empty([tdim,ydim,xdim])    \n",
    "    for i in range(0,xdim):\n",
    "        for j in range(0,ydim):\n",
    "            if np.isnan(subset.analysed_sst[0,j,i]):  #don't process masked values\n",
    "                continue\n",
    "            for k in range(0,tdim):\n",
    "                sdate2[k,j,i] = (ds_all.time[k] - sdate[j,i]) / np.timedelta64(1,'D')\n",
    "    xsdate2=xr.DataArray(sdate2, coords={'time':ds_all.time, 'lat': ds_all.lat.values, 'lon':ds_all.lon.values}, dims=('time','lat', 'lon'))        \n",
    "    ds_all['dys_from_storm2']=xsdate2\n",
    "    cbin6 = np.arange(-10,50,1)  #cold wake bins\n",
    "    subset_sum6=ds_all.groupby_bins('dys_from_storm2',cbin6).sum()  #sums number\n",
    "    subset_cnt6=ds_all.groupby_bins('dys_from_storm2',cbin6).count()    #sums variable  \n",
    "\n",
    "        #start saving this data\n",
    "    if init_data == 0:\n",
    "        sv_sum1,sv_cnt1 = subset_sum1,subset_cnt1\n",
    "        sv_sum2,sv_cnt2 = subset_sum2,subset_cnt2\n",
    "        sv_sum3,sv_cnt3 = subset_sum3,subset_cnt3\n",
    "        sv_sum4,sv_cnt4 = subset_sum4,subset_cnt4\n",
    "        sv_sum5,sv_cnt5 = subset_sum5,subset_cnt5\n",
    "        sv_sum6,sv_cnt6 = subset_sum6,subset_cnt6\n",
    "        init_data=1\n",
    "    else:\n",
    "        sv_sum1+= subset_sum1\n",
    "        sv_cnt1+= subset_cnt1\n",
    "        sv_sum2+= subset_sum2\n",
    "        sv_cnt2+= subset_cnt2\n",
    "        sv_sum3+= subset_sum3\n",
    "        sv_cnt3+= subset_cnt3\n",
    "        sv_sum4+= subset_sum4\n",
    "        sv_cnt4+= subset_cnt4\n",
    "        sv_sum5+= subset_sum5\n",
    "        sv_cnt5+= subset_cnt5      \n",
    "        sv_sum6+= subset_sum6\n",
    "        sv_cnt6+= subset_cnt6           \n",
    "\n",
    "        #put on global map\n",
    "    tem = subset.coldwake_max.interp(lat=map_lats,lon=map_lons)\n",
    "    tem=tem.fillna(0)\n",
    "    temc=(tem/tem).fillna(0)\n",
    "    map_sum+=tem\n",
    "    map_cnt+=temc\n",
    "    map_max=np.where(tem.data < map_max, tem,map_max)  #where tem<max put tem value in otherwise leave max\n",
    "        \n",
    "    for i in range(0,xdim):\n",
    "        for j in range(0,ydim):\n",
    "            if np.isnan(subset.analysed_sst[0,j,i]):  #don't process masked values\n",
    "                continue\n",
    "            storm_date64 = np.datetime64(date_1858 + dt.timedelta(days=float(ds_all.closest_storm_time[j,i])))\n",
    "            time_diff = subset.time-storm_date64\n",
    "            storm_index = np.argmin(abs(time_diff)).data\n",
    "\n",
    "#            map_sum[j,i]+=subset.coldwake_max[j,i]\n",
    "#            map_cnt[j,i]+=1\n",
    "#            if  map_max[j,i]>subset.coldwake_max[j,i]:\n",
    "#                map_max[j,i]=subset.coldwake_max[j,i]\n",
    "            \n",
    "            if subset.coldwake_max[j,i]<-0.1:  #cold wake larger than -0.1 \n",
    "                icold=int(np.round(subset.coldwake_max[j,i].data*10.))+10\n",
    "                icoldhr=int(np.round(subset.coldwake_hrtomaxcold[j,i].data))\n",
    "                icolddy2=int(np.round(subset.coldwake_hrtorecovery[j,i].data/24.))\n",
    "                iswnd=int(np.round(subset.wmo_storm_wind[j,i].data*.5))\n",
    "                iwnd=int(np.round(subset.spd[storm_index,j,i].data))\n",
    "                isspd=int(abs(np.round(subset.wmo_storm_speed[j,i].data)))\n",
    "\n",
    "            #PROBLEM MLD interpolation pre 1/1 for each year need to fix\n",
    "            #for now just setting first data to 1/1 for each year\n",
    "                im=0\n",
    "                if np.isnan(subset.dbss_obml[im,j,i].data):\n",
    "                    while np.isnan(subset.dbss_obml[im,j,i].data):\n",
    "                        im+=1\n",
    "                        if im>=tdim:\n",
    "                            break\n",
    "                if im>=tdim:\n",
    "                    continue\n",
    "                if np.isnan(subset.dbss_obml[im,j,i].data):\n",
    "                    continue\n",
    "                imld=int(np.round(subset.dbss_obml[im,j,i].data))\n",
    "\n",
    "                if (icold<0) | (icold>100):  #cold wake max between 0,10 K\n",
    "                    continue\n",
    "                if (icold>=0) & (icold<=100) & (isspd>=0) & (isspd<=200) & (imld>=0) & (imld<=100):                \n",
    "                    if (iswnd>=0) & (iswnd<=100):             \n",
    "                        sum1[icold,iswnd,isspd,imld]=sum1[icold,iswnd,isspd,imld]+subset.coldwake_max[j,i].data  #uses storm wind from wmo track\n",
    "                        num1[icold,iswnd,isspd,imld]=num1[icold,iswnd,isspd,imld]+1  #uses storm wind from wmo track\n",
    "                    if (iwnd>=0) & (iwnd<=100):                  \n",
    "                        sum2[icold,iwnd,isspd,imld]=sum2[icold,iwnd,isspd,imld]+subset.coldwake_max[j,i].data    #uses collocated ccmp wind on storm day\n",
    "                        num2[icold,iwnd,isspd,imld]=num2[icold,iwnd,isspd,imld]+1    #uses collocated ccmp wind on storm day\n",
    " #               if (icoldhr>=0) & (icoldhr<100):\n",
    " #                   num3[icoldhr]=num3[icoldhr]+1   #pdf of when max cold wake occurs\n",
    " #               if (icolddy2>=0) & (icolddy2<100):\n",
    " #                   num4[icolddy2]=num4[icolddy2]+1   #pdf of when recovery occurs\n",
    "    #            num4[icold] = num4[icold]+1                     \n",
    " #               sum5[icold]=sum5[icold]+subset.coldwake_hrtorecovery[j,i].data  #mean of recorvery time as f(max coldwake)\n",
    " #               num5[icold]=num5[icold]+1  #mean of recorvery time as f(max coldwake)\n",
    " #               if (icoldhr>=0) & (icoldhr<100):\n",
    " #                   sum6[icoldhr]=sum6[icoldhr]+subset.coldwake_max[j,i].data  #mean of max cold wake as f(hr from storm)\n",
    " #                   num6[icoldhr]=num6[icoldhr]+1  #mean of max cold wake as f(hr from storm)\n",
    "\n",
    "                #caluclate the mean sst anomaly as f(days after storm)\n",
    " #               for k in range(storm_index,tdim):\n",
    " #                   data_time = subset.time[k]\n",
    " #                   dtime = data_time-storm_date64\n",
    " #                   ddy = dtime / np.timedelta64(1,'D')\n",
    " #                   iddy = int(np.round(ddy))\n",
    " #                   if (iddy<0) | (iddy>50):\n",
    " #                       continue\n",
    " #                   change_in_sst = subset.sst_prestorm[j,i].data-subset.analysed_sst[k,j,i].data\n",
    " #                   sum7[iddy]=sum7[iddy]+change_in_sst  \n",
    " #                   num7[iddy]=num7[iddy]+1  \n",
    "\n",
    "    for i in range(0,100):\n",
    "        dim1[i]=(i-10)/10\n",
    "        dim2[i]=i\n",
    "        dim3[i]=i*24\n",
    "        dim4[i]=i/.5\n",
    "        dim5[i]=i\n",
    "        dim7[i]=i\n",
    "        dim8[i]=i\n",
    "    for i in range(0,200):\n",
    "        dim6[i]=i\n",
    "#                                'num3': (('coldhr'),num3),\n",
    "#                                'num4': (('colddy'),num4),\n",
    "#                                'sum5': (('cold'),sum5),\n",
    "#                                'num5': (('cold'),num5),\n",
    "#                                'sum6': (('coldhr'),sum6),\n",
    "#                                'num6': (('coldhr'),num6),\n",
    "#                               'sum7': (('dyfrom'),sum7),\n",
    "#                                'num7': (('dyfrom'),num7)\n",
    " \n",
    "    m1=xr.DataArray(map_sum, coords={'lat': map_lats, 'lon':map_lons}, dims=('lat', 'lon'))        \n",
    "    m2=xr.DataArray(map_cnt, coords={'lat': map_lats, 'lon':map_lons}, dims=('lat', 'lon'))        \n",
    "    m3=xr.DataArray(map_max, coords={'lat': map_lats, 'lon':map_lons}, dims=('lat', 'lon'))        \n",
    "\n",
    "    ds=xr.Dataset(data_vars={'sum1': (('cold','swnd','sspd','mld'),sum1),\n",
    "                                'num1': (('cold','swnd','sspd','mld'),num1),\n",
    "                                'sum2': (('cold','cwnd','sspd','mld'),sum2),\n",
    "                                'num2': (('cold','cwnd','sspd','mld'),num2),\n",
    "                                'map_sum': (('lat','lon'),m1),\n",
    "                                'map_cnt': (('lat','lon'),m2),\n",
    "                                'map_max': (('lat','lon'),m3)\n",
    "                               },\n",
    "                                 coords={'cold':dim1,'coldhr':dim2,'colddy':dim3,'swnd':dim4,\n",
    "                                         'wnd':dim5,'sspd':dim6,'mld':dim7,'dyfrom':dim8,\n",
    "                                         'lat':map_lats,'lon':map_lons})\n"
   ]
  },
  {
   "cell_type": "code",
   "execution_count": null,
   "metadata": {},
   "outputs": [],
   "source": [
    "#subset.spd.max('time').plot()\n",
    "#subset.coldwake_max.plot()\n",
    "subset.dbss_obml[20,:,:].plot()\n",
    "#subset.hum2m[0,:,:].plot()"
   ]
  },
  {
   "cell_type": "code",
   "execution_count": null,
   "metadata": {},
   "outputs": [],
   "source": [
    "subset.time"
   ]
  },
  {
   "cell_type": "code",
   "execution_count": null,
   "metadata": {},
   "outputs": [],
   "source": []
  },
  {
   "cell_type": "code",
   "execution_count": null,
   "metadata": {},
   "outputs": [],
   "source": [
    "subset.sst_prestorm[40,100].data\n",
    "i,j = 100,40\n",
    "storm_date = date_1858 + dt.timedelta(days=float(ds_all.closest_storm_time[j,i]))  #create new time array that can be queried for year etc\n",
    "storm_date64 = np.datetime64(storm_date)\n",
    "#print(subset.time)\n",
    "time_diff = subset.time-storm_date64\n",
    "storm_index = np.argmin(abs(time_diff)).data\n",
    "istart,iend = int(storm_index)-1,int(storm_index)+5\n",
    "if istart<0:\n",
    "    istart=0\n",
    "if iend>tdim:\n",
    "    iend=tdim\n",
    "coldwake_max[j,i] = (subset.sst_prestorm[j,i]-subset.analysed_sst[istart:iend,j,i]).min()\n",
    "itmp = np.argmin(subset.sst_prestorm[j,i]-subset.analysed_sst[istart:iend,j,i])\n",
    "print(itmp)\n",
    "print(subset.sst_prestorm[j,i].values,subset.analysed_sst[istart:iend,j,i].values)\n",
    "print(istart,iend)\n",
    "print(coldwake_max[j,i])"
   ]
  },
  {
   "cell_type": "code",
   "execution_count": null,
   "metadata": {},
   "outputs": [],
   "source": [
    "(subset.sst_prestorm[j,i]-subset.analysed_sst[istart:iend,j,i]).plot()"
   ]
  },
  {
   "cell_type": "code",
   "execution_count": null,
   "metadata": {},
   "outputs": [],
   "source": [
    "import dask.array as da\n",
    "import numpy as np\n",
    "import matplotlib.pyplot as plt\n",
    "\n",
    "### create a dataset\n",
    "nxc, nyc = 1000,1000\n",
    "nx, ny = nxc*8*7, nyc*8*7\n",
    "v = da.random.normal(0., .5, size=(nx,ny), chunks=(nxc, nyc))\n",
    "v1 = v\n",
    "v2 = v + da.random.normal(1., .5, size=(nx,ny), chunks=(nxc, nyc))\n",
    "\n",
    "v1min, v1max, dv1= -2., 2., .1\n",
    "v2min, v2max, dv2= -1., 3., .05\n",
    "i1max = int(np.rint((v1max-v1min)/dv1))+1\n",
    "i2max = int(np.rint((v2max-v2min)/dv2))+1\n",
    "def get_index(v1,v2):\n",
    "    ''' This function provides the index of (v1,v2) coupled value position\n",
    "    in the 2D histogram array\n",
    "    '''\n",
    "    i1 = np.maximum(np.rint((v1-v1min)/dv1)+1,0)\n",
    "    i1 = np.minimum(i1,i1max)\n",
    "    i2 = np.maximum(np.rint((v2-v2min)/dv2)+1,0)\n",
    "    i2 = np.minimum(i2,i2max)\n",
    "    return i1+i2*(i1max+1)\n",
    "# apply get_index to v1 and v2 arrays\n",
    "v12 = da.map_blocks(get_index, v1, v2, dtype='float')\n",
    "# compute histogram of linear indices\n",
    "h, lbins = da.histogram(v12, bins=np.arange(-.5,(i1max+1)*(i2max+1)+0.5,1.))\n",
    "# normalize and reshape\n",
    "H = h.compute()\n",
    "H = H*1./H.sum()\n",
    "H = H.reshape((i1max+1,i2max+1), order='F')\n",
    "\n",
    "# compute bins\n",
    "bins1 = np.arange(v1min-dv1, v1max+dv1, dv1)\n",
    "bins2 = np.arange(v2min-dv2, v2max+dv2, dv2)\n",
    "bins1, bins2 = np.meshgrid(bins1,bins2)\n",
    "\n",
    "#\n",
    "plt.figure()\n",
    "plt.pcolor(bins1,bins2,H.transpose())\n",
    "plt.grid()\n",
    "plt.xlabel('v1')\n",
    "plt.ylabel('v2')\n",
    "plt.colorbar()\n",
    "\n"
   ]
  },
  {
   "cell_type": "code",
   "execution_count": null,
   "metadata": {},
   "outputs": [],
   "source": [
    "v"
   ]
  },
  {
   "cell_type": "code",
   "execution_count": null,
   "metadata": {},
   "outputs": [],
   "source": [
    "iyr_storm = 2015\n",
    "inum_storm = 50\n",
    "filename = dir_out + str(iyr_storm) + '/' + str(inum_storm).zfill(3) + '_interpolated_track.nc'\n",
    "exists = os.path.isfile(filename)\n",
    "print(filename)\n",
    "ds_storm_info=xr.open_dataset(filename)\n",
    "ds_storm_info = ds_storm_info.sel(j2=0)\n",
    "ds_storm_info.close()\n"
   ]
  },
  {
   "cell_type": "code",
   "execution_count": null,
   "metadata": {},
   "outputs": [],
   "source": [
    "ds_storm_info"
   ]
  },
  {
   "cell_type": "code",
   "execution_count": null,
   "metadata": {},
   "outputs": [],
   "source": [
    "ds_storm_info.time"
   ]
  },
  {
   "cell_type": "code",
   "execution_count": null,
   "metadata": {},
   "outputs": [],
   "source": []
  }
 ],
 "metadata": {
  "kernelspec": {
   "display_name": "Python 3",
   "language": "python",
   "name": "python3"
  },
  "language_info": {
   "codemirror_mode": {
    "name": "ipython",
    "version": 3
   },
   "file_extension": ".py",
   "mimetype": "text/x-python",
   "name": "python",
   "nbconvert_exporter": "python",
   "pygments_lexer": "ipython3",
   "version": "3.7.1"
  }
 },
 "nbformat": 4,
 "nbformat_minor": 2
}
