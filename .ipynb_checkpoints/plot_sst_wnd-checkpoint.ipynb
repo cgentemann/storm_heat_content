{
 "cells": [
  {
   "cell_type": "code",
   "execution_count": 16,
   "metadata": {},
   "outputs": [],
   "source": [
    "from netCDF4 import Dataset  # http://code.google.com/p/netcdf4-python/\n",
    "import os\n",
    "####################you will need to change some paths here!#####################\n",
    "#list of input files\n",
    "dir_in='f:/data/tc_wakes/database/info/'\n",
    "dir_out='f:/data/tc_wakes/database/sst/'\n",
    "dir_mur = 'F:/data/sst/jpl_mur/v4.1/'\n",
    "#output files\n",
    "#filename_out_nc='F:/data/cruise_data/saildrone/baja-2018/daily_files/sd-1002/data_so_far.nc'\n",
    "#filename_out_kml='F:/data/cruise_data/saildrone/baja-2018/daily_files/sd-1002/data_so_far.kml'\n",
    "#################################################################################\n",
    "import datetime as dt\n",
    "import xarray as xr\n",
    "from datetime import datetime\n",
    "import pandas\n",
    "import matplotlib as mpl\n",
    "#import openpyxl\n",
    "#from mpl_toolkits.basemap import Basemap\n",
    "import matplotlib.pyplot as plt\n",
    "import numpy as np\n",
    "import math\n",
    "#from math import cos, radians\n",
    "#f:/data/tc_wakes/database/sst/2016\\091_ccmp_wnd_uv.nc"
   ]
  },
  {
   "cell_type": "code",
   "execution_count": 42,
   "metadata": {},
   "outputs": [
    {
     "name": "stdout",
     "output_type": "stream",
     "text": [
      "f:/data/tc_wakes/database/info/2004\\014annual_storm_info.nc\n"
     ]
    }
   ],
   "source": [
    "dir_ccmp='F:/data/sat_data/ccmp/v02.0/Y'\n",
    "date_1858 = dt.datetime(1858,11,17,0,0,0) # start date is 11/17/1958\n",
    "dx=0.25\n",
    "dy=0.25\n",
    "dx_offset = -179.875\n",
    "dy_offset = -78.3750\n",
    "for root, dirs, files in os.walk(dir_in, topdown=False):\n",
    "    for ii in range(12,13):         \n",
    "#    for name in files:\n",
    "        name = files[ii]\n",
    "#    for name in files:\n",
    "        fname_tem=os.path.join(root, name)\n",
    "        print(fname_tem)\n",
    "        if int(fname_tem[31:35])>2008:\n",
    "            continue\n",
    "        fname_in=dir_out + fname_tem[31:35]+'/'+fname_tem[36:39] + '_all_25km.nc'\n",
    "        fname_out=dir_out + fname_tem[31:35]+'/'+fname_tem[36:39] + '_all_25km_xr.nc'\n",
    "\n",
    "        nc_fid = Dataset(fname_in, 'r')\n",
    "        tempgrp = nc_fid.groups['data']\n",
    "        sst = tempgrp.variables['sst'][:]\n",
    "        sst_clim = tempgrp.variables['sst_clim'][:]\n",
    "        wndu = tempgrp.variables['wndu'][:]\n",
    "        wndv = tempgrp.variables['wndv'][:]\n",
    "        lon = tempgrp.variables['lon'][:]\n",
    "        lat = tempgrp.variables['lat'][:]\n",
    "        time = tempgrp.variables['time'][:]\n",
    "        nc_fid.close()\n",
    "        break\n",
    "    break\n",
    " "
   ]
  },
  {
   "cell_type": "code",
   "execution_count": 56,
   "metadata": {},
   "outputs": [
    {
     "name": "stdout",
     "output_type": "stream",
     "text": [
      "F:/data/sat_data/ccmp/v02.0/Y2005/M01/CCMP_Wind_Analysis_20050123_V02.0_L3.0_RSS.nc\n",
      "F:/data/sat_data/ccmp/v02.0/clim/ccmp_daily_clim_023.nc\n"
     ]
    },
    {
     "ename": "AttributeError",
     "evalue": "'Dataset' object has no attribute 'reshape'",
     "output_type": "error",
     "traceback": [
      "\u001b[1;31m---------------------------------------------------------------------------\u001b[0m",
      "\u001b[1;31mAttributeError\u001b[0m                            Traceback (most recent call last)",
      "\u001b[1;32m<ipython-input-56-ce6d57d392aa>\u001b[0m in \u001b[0;36m<module>\u001b[1;34m()\u001b[0m\n\u001b[0;32m     15\u001b[0m \u001b[0mds_mur\u001b[0m\u001b[1;33m=\u001b[0m\u001b[0mxr\u001b[0m\u001b[1;33m.\u001b[0m\u001b[0mopen_dataset\u001b[0m\u001b[1;33m(\u001b[0m\u001b[0mmur_filename\u001b[0m\u001b[1;33m)\u001b[0m\u001b[1;33m\u001b[0m\u001b[0m\n\u001b[0;32m     16\u001b[0m \u001b[0mcoarseness\u001b[0m\u001b[1;33m=\u001b[0m\u001b[1;36m25\u001b[0m\u001b[1;33m\u001b[0m\u001b[0m\n\u001b[1;32m---> 17\u001b[1;33m \u001b[0mtem\u001b[0m\u001b[1;33m=\u001b[0m\u001b[0mds_mur\u001b[0m\u001b[1;33m.\u001b[0m\u001b[0mreshape\u001b[0m\u001b[1;33m(\u001b[0m\u001b[0mds_mur\u001b[0m \u001b[1;33m//\u001b[0m \u001b[0mcoarseness\u001b[0m\u001b[1;33m,\u001b[0m\u001b[0mcoarseness\u001b[0m\u001b[1;33m)\u001b[0m\u001b[1;33m\u001b[0m\u001b[0m\n\u001b[0m\u001b[0;32m     18\u001b[0m \u001b[0mtem\u001b[0m\u001b[1;33m\u001b[0m\u001b[0m\n",
      "\u001b[1;32m~\\Anaconda3\\lib\\site-packages\\xarray\\core\\common.py\u001b[0m in \u001b[0;36m__getattr__\u001b[1;34m(self, name)\u001b[0m\n\u001b[0;32m    174\u001b[0m                     \u001b[1;32mreturn\u001b[0m \u001b[0msource\u001b[0m\u001b[1;33m[\u001b[0m\u001b[0mname\u001b[0m\u001b[1;33m]\u001b[0m\u001b[1;33m\u001b[0m\u001b[0m\n\u001b[0;32m    175\u001b[0m         raise AttributeError(\"%r object has no attribute %r\" %\n\u001b[1;32m--> 176\u001b[1;33m                              (type(self).__name__, name))\n\u001b[0m\u001b[0;32m    177\u001b[0m \u001b[1;33m\u001b[0m\u001b[0m\n\u001b[0;32m    178\u001b[0m     \u001b[1;32mdef\u001b[0m \u001b[0m__setattr__\u001b[0m\u001b[1;33m(\u001b[0m\u001b[0mself\u001b[0m\u001b[1;33m,\u001b[0m \u001b[0mname\u001b[0m\u001b[1;33m,\u001b[0m \u001b[0mvalue\u001b[0m\u001b[1;33m)\u001b[0m\u001b[1;33m:\u001b[0m\u001b[1;33m\u001b[0m\u001b[0m\n",
      "\u001b[1;31mAttributeError\u001b[0m: 'Dataset' object has no attribute 'reshape'"
     ]
    }
   ],
   "source": [
    "syr=str(2005)\n",
    "smon=str(1)\n",
    "sdym=str(23)\n",
    "sjdy=str(23)\n",
    "fname_tem=syr + smon.zfill(2) + sdym.zfill(2) + '090000-JPL-L4_GHRSST-SSTfnd-MUR-GLOB-v02.0-fv04.1.nc'\n",
    "mur_filename = dir_mur + syr + '/' + sjdy.zfill(3) + '/' + fname_tem\n",
    "fname_tem='/CCMP_Wind_Analysis_' + syr + smon.zfill(2) + sdym.zfill(2) + '_V02.0_L3.0_RSS.nc'\n",
    "ccmp_filename = dir_ccmp + syr + '/M' + smon.zfill(2) + fname_tem      \n",
    "\n",
    "\n",
    "clim_filename='F:/data/sst/jpl_mur/v4.1/clim/clim2_' + sjdy.zfill(3) +'_2003_2013_MUR-GLOB-v02.0-fv04.1.nc'\n",
    "ccmp_clim_filename='F:/data/sat_data/ccmp/v02.0/clim/ccmp_daily_clim_' + sjdy.zfill(3) +'.nc'\n",
    "print(ccmp_filename)\n",
    "print(ccmp_clim_filename)\n",
    "ds_mur=xr.open_dataset(mur_filename)\n",
    "coarseness=25\n",
    "tem=ds_mur.reshape(ds_mur // coarseness,coarseness)\n",
    "tem"
   ]
  },
  {
   "cell_type": "code",
   "execution_count": 52,
   "metadata": {},
   "outputs": [
    {
     "ename": "AttributeError",
     "evalue": "'MaskedArray' object has no attribute 'values'",
     "output_type": "error",
     "traceback": [
      "\u001b[1;31m---------------------------------------------------------------------------\u001b[0m",
      "\u001b[1;31mAttributeError\u001b[0m                            Traceback (most recent call last)",
      "\u001b[1;32m<ipython-input-52-7531bb719abf>\u001b[0m in \u001b[0;36m<module>\u001b[1;34m()\u001b[0m\n\u001b[0;32m      7\u001b[0m \u001b[1;31m#vattrs[\"coordinates\"] = COORD_ATTR\u001b[0m\u001b[1;33m\u001b[0m\u001b[1;33m\u001b[0m\u001b[0m\n\u001b[0;32m      8\u001b[0m \u001b[1;31m#vattrs[\"_FillValue\"] = FLOAT_FILLVALUE\u001b[0m\u001b[1;33m\u001b[0m\u001b[1;33m\u001b[0m\u001b[0m\n\u001b[1;32m----> 9\u001b[1;33m \u001b[0mvalues\u001b[0m \u001b[1;33m=\u001b[0m \u001b[0mnp\u001b[0m\u001b[1;33m.\u001b[0m\u001b[0mma\u001b[0m\u001b[1;33m.\u001b[0m\u001b[0mfix_invalid\u001b[0m\u001b[1;33m(\u001b[0m\u001b[0msst\u001b[0m\u001b[1;33m.\u001b[0m\u001b[0mvalues\u001b[0m\u001b[1;33m[\u001b[0m\u001b[1;33m:\u001b[0m\u001b[1;33m]\u001b[0m\u001b[1;33m)\u001b[0m\u001b[1;33m\u001b[0m\u001b[0m\n\u001b[0m\u001b[0;32m     10\u001b[0m varrays['sst'] = xr.DataArray(\n\u001b[0;32m     11\u001b[0m     \u001b[0mvalues\u001b[0m\u001b[1;33m.\u001b[0m\u001b[0mfilled\u001b[0m\u001b[1;33m(\u001b[0m\u001b[0mFLOAT_FILLVALUE\u001b[0m\u001b[1;33m)\u001b[0m\u001b[1;33m.\u001b[0m\u001b[0mastype\u001b[0m\u001b[1;33m(\u001b[0m\u001b[0mnp\u001b[0m\u001b[1;33m.\u001b[0m\u001b[0mfloat32\u001b[0m\u001b[1;33m,\u001b[0m\u001b[0mcopy\u001b[0m\u001b[1;33m=\u001b[0m\u001b[1;32mFalse\u001b[0m\u001b[1;33m)\u001b[0m\u001b[1;33m,\u001b[0m\u001b[1;33m\u001b[0m\u001b[0m\n",
      "\u001b[1;31mAttributeError\u001b[0m: 'MaskedArray' object has no attribute 'values'"
     ]
    }
   ],
   "source": [
    "ds_wnd"
   ]
  },
  {
   "cell_type": "code",
   "execution_count": 11,
   "metadata": {},
   "outputs": [],
   "source": [
    "from copy import copy\n",
    "import matplotlib.pyplot as plt\n",
    "import matplotlib.colors as colors\n",
    "import matplotlib.mlab as mlab\n",
    "palette = copy(plt.cm.jet)\n",
    "palette.set_over('r', 1.0)\n",
    "palette.set_under('g', 1.0)\n",
    "palette.set_bad(alpha = 0.0)\n",
    "\n",
    "dir_ccmp='F:/data/sat_data/ccmp/v02.0/Y'\n",
    "date_1858 = dt.datetime(1858,11,17,0,0,0) # start date is 11/17/1958\n",
    "dx=0.25\n",
    "dy=0.25\n",
    "dx_offset = -179.875\n",
    "dy_offset = -78.3750\n",
    "for root, dirs, files in os.walk(dir_in, topdown=False):\n",
    "    for ii in range(12,13): \n",
    "#    for name in files:\n",
    "        name = files[ii]\n",
    "#    for name in files:\n",
    "        fname_tem=os.path.join(root, name)\n",
    "        fname_in=dir_out + fname_tem[31:39] + '_all_25km.nc'\n",
    "\n",
    "        #nc_fid.close()\n",
    "        nc_fid = Dataset(fname_in, 'r')\n",
    "        tempgrp = nc_fid.groups['data']\n",
    "        #tempgrp = nc_fid.createGroup('Eddy_data')\n",
    "        sst = tempgrp.variables['sst'][:]\n",
    "        sst_clim = tempgrp.variables['sst_clim'][:]\n",
    "        wndu = tempgrp.variables['wndu'][:]\n",
    "        wndv = tempgrp.variables['wndv'][:]\n",
    "        lon = tempgrp.variables['lon'][:]\n",
    "        lat = tempgrp.variables['lat'][:]\n",
    "        time = tempgrp.variables['time'][:]\n",
    "        nc_fid.close()\n",
    "        \n",
    "        sst_diff = sst -273.15 - sst_clim\n",
    "        print(sst.shape,sst_clim.shape)\n",
    "        fig, (ax1) = plt.subplots(nrows=1, figsize=(6, 5.4))\n",
    "        # plot using 'continuous' color map\n",
    "        im = ax1.imshow(sst_diff[30,:,:], interpolation='bilinear',\n",
    "                        cmap=palette,\n",
    "                        norm=colors.Normalize(vmin=-5.0, vmax=5.0),\n",
    "                        aspect='auto',\n",
    "                        origin='lower')\n",
    "                        #extent=[x0, x1, y0, y1])\n",
    "        ax1.set_title('SST')\n",
    "        cbar = fig.colorbar(im, extend='both', shrink=0.9, ax=ax1)\n",
    "        cbar.set_label('SST - SST climatology')\n",
    "        for ticklabel in ax1.xaxis.get_ticklabels():\n",
    "            ticklabel.set_visible(False)\n",
    "        plt.show()\n",
    "        "
   ]
  },
  {
   "cell_type": "code",
   "execution_count": 12,
   "metadata": {},
   "outputs": [],
   "source": []
  },
  {
   "cell_type": "code",
   "execution_count": 13,
   "metadata": {},
   "outputs": [
    {
     "data": {
      "text/plain": [
       "<xarray.Dataset>\n",
       "Dimensions:  ()\n",
       "Data variables:\n",
       "    *empty*"
      ]
     },
     "execution_count": 13,
     "metadata": {},
     "output_type": "execute_result"
    }
   ],
   "source": []
  },
  {
   "cell_type": "code",
   "execution_count": null,
   "metadata": {},
   "outputs": [],
   "source": []
  }
 ],
 "metadata": {
  "kernelspec": {
   "display_name": "Python 3",
   "language": "python",
   "name": "python3"
  },
  "language_info": {
   "codemirror_mode": {
    "name": "ipython",
    "version": 3
   },
   "file_extension": ".py",
   "mimetype": "text/x-python",
   "name": "python",
   "nbconvert_exporter": "python",
   "pygments_lexer": "ipython3",
   "version": "3.5.6"
  }
 },
 "nbformat": 4,
 "nbformat_minor": 2
}
