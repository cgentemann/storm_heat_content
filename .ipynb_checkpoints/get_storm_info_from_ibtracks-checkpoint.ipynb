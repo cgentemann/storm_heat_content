{
 "cells": [
  {
   "cell_type": "code",
   "execution_count": 1,
   "metadata": {},
   "outputs": [],
   "source": [
    "import datetime as dt\n",
    "import xarray as xr\n",
    "import pandas\n",
    "import matplotlib.pyplot as plt\n",
    "import numpy as np\n",
    "####################you will need to change some paths here!#####################\n",
    "#list of input directories\n",
    "dir_storm_wmo='F:/data/tc_wakes/ibtracks/year/'\n",
    "dir_storm_info='f:/data/tc_wakes/database/info/'\n"
   ]
  },
  {
   "cell_type": "code",
   "execution_count": 2,
   "metadata": {},
   "outputs": [
    {
     "data": {
      "text/plain": [
       "<xarray.Dataset>\n",
       "Dimensions:          (center: 26, storm: 97, time: 137)\n",
       "Dimensions without coordinates: center, storm, time\n",
       "Data variables:\n",
       "    storm_sn         (storm) |S13 ...\n",
       "    name             (storm) |S57 ...\n",
       "    numObs           (storm) int16 ...\n",
       "    season           (storm) int16 ...\n",
       "    track_type       (storm) int8 ...\n",
       "    genesis_basin    (storm) int8 ...\n",
       "    num_basins       (storm) int8 ...\n",
       "    basin            (storm, time) float32 ...\n",
       "    wind_avg_period  (center) float32 ...\n",
       "    source           (center) |S10 ...\n",
       "    time_wmo         (storm, time) datetime64[ns] ...\n",
       "    lat_wmo          (storm, time) float32 ...\n",
       "    lon_wmo          (storm, time) float32 ...\n",
       "    alt              (storm, time) float32 ...\n",
       "    wind_wmo         (storm, time) float32 ...\n",
       "    pres_wmo         (storm, time) float32 ...\n",
       "    sub_basin        (storm, time) float32 ...\n",
       "    nature_wmo       (storm, time) float32 ...\n",
       "    source_wmo       (storm, time) float32 ...\n",
       "    dist2land        (storm, time) float32 ...\n",
       "    landfall         (storm, time) float32 ...\n",
       "Attributes:\n",
       "    Title:                IBTrACS-WMO: NetCDF reformat\n",
       "    Version:              v03r10\n",
       "    Description:          IBTrACS-WMO data reformatted to contain \\nall data ...\n",
       "    cdm_datatype:         Trajectory\n",
       "    trajectoryDimension:  storm\n",
       "    Conventions:          CF-1.0\n",
       "    metadata_link:        gov.noaa.ncdc:C00834"
      ]
     },
     "execution_count": 2,
     "metadata": {},
     "output_type": "execute_result"
    }
   ],
   "source": [
    "lyr=2003\n",
    "filename=dir_storm_wmo+'Year.'+str(lyr)+'.ibtracs_wmo.v03r10.nc'\n",
    "ds_storm_info = xr.open_dataset(filename)\n",
    "ds_storm_info.close()\n",
    "ds_storm_info"
   ]
  },
  {
   "cell_type": "code",
   "execution_count": 6,
   "metadata": {},
   "outputs": [
    {
     "data": {
      "text/plain": [
       "<xarray.DataArray 'storm' (storm: 97)>\n",
       "array([ 0,  1,  2,  3,  4,  5,  6,  7,  8,  9, 10, 11, 12, 13, 14, 15, 16, 17,\n",
       "       18, 19, 20, 21, 22, 23, 24, 25, 26, 27, 28, 29, 30, 31, 32, 33, 34, 35,\n",
       "       36, 37, 38, 39, 40, 41, 42, 43, 44, 45, 46, 47, 48, 49, 50, 51, 52, 53,\n",
       "       54, 55, 56, 57, 58, 59, 60, 61, 62, 63, 64, 65, 66, 67, 68, 69, 70, 71,\n",
       "       72, 73, 74, 75, 76, 77, 78, 79, 80, 81, 82, 83, 84, 85, 86, 87, 88, 89,\n",
       "       90, 91, 92, 93, 94, 95, 96], dtype=int64)\n",
       "Dimensions without coordinates: storm"
      ]
     },
     "execution_count": 6,
     "metadata": {},
     "output_type": "execute_result"
    }
   ],
   "source": [
    "#storm number in wmo file is -1 from storm number used by other routines to index storms\n",
    "#eg info/2003/006storm  is actually for wmo storm 5 \n",
    "ds_storm_info.storm"
   ]
  },
  {
   "cell_type": "code",
   "execution_count": 10,
   "metadata": {},
   "outputs": [
    {
     "data": {
      "text/plain": [
       "[<matplotlib.lines.Line2D at 0x66a8a90>]"
      ]
     },
     "execution_count": 10,
     "metadata": {},
     "output_type": "execute_result"
    },
    {
     "data": {
      "image/png": "[encoded data removed]",
      "text/plain": [
       "<Figure size 432x288 with 1 Axes>"
      ]
     },
     "metadata": {
      "needs_background": "light"
     },
     "output_type": "display_data"
    }
   ],
   "source": [
    "subset = ds_storm_info.sel(storm=5)\n",
    "plt.plot(subset.lon_wmo,subset.lat_wmo)"
   ]
  },
  {
   "cell_type": "code",
   "execution_count": 11,
   "metadata": {},
   "outputs": [
    {
     "data": {
      "text/plain": [
       "<xarray.Dataset>\n",
       "Dimensions:          (center: 26, time: 137)\n",
       "Dimensions without coordinates: center, time\n",
       "Data variables:\n",
       "    storm_sn         |S13 b'2002364S16045'\n",
       "    name             |S7 b'DELFINA'\n",
       "    numObs           int16 61\n",
       "    season           int16 ...\n",
       "    track_type       int8 ...\n",
       "    genesis_basin    int8 ...\n",
       "    num_basins       int8 ...\n",
       "    basin            (time) float32 ...\n",
       "    wind_avg_period  (center) float32 ...\n",
       "    source           (center) |S10 ...\n",
       "    time_wmo         (time) datetime64[ns] 2002-12-30T06:00:00.000043520 ... NaT\n",
       "    lat_wmo          (time) float32 -15.799999 -16.1 -16.1 -16.1 ... nan nan nan\n",
       "    lon_wmo          (time) float32 44.8 43.0 42.3 42.0 41.6 ... nan nan nan nan\n",
       "    alt              (time) float32 ...\n",
       "    wind_wmo         (time) float32 ...\n",
       "    pres_wmo         (time) float32 ...\n",
       "    sub_basin        (time) float32 ...\n",
       "    nature_wmo       (time) float32 ...\n",
       "    source_wmo       (time) float32 ...\n",
       "    dist2land        (time) float32 ...\n",
       "    landfall         (time) float32 ...\n",
       "Attributes:\n",
       "    Title:                IBTrACS-WMO: NetCDF reformat\n",
       "    Version:              v03r10\n",
       "    Description:          IBTrACS-WMO data reformatted to contain \\nall data ...\n",
       "    cdm_datatype:         Trajectory\n",
       "    trajectoryDimension:  storm\n",
       "    Conventions:          CF-1.0\n",
       "    metadata_link:        gov.noaa.ncdc:C00834"
      ]
     },
     "execution_count": 11,
     "metadata": {},
     "output_type": "execute_result"
    }
   ],
   "source": [
    "subset"
   ]
  },
  {
   "cell_type": "code",
   "execution_count": null,
   "metadata": {},
   "outputs": [],
   "source": [
    "#from storm_masking_routines import interpolate_storm_path\n",
    "import numpy as np\n",
    "from scipy import interpolate\n",
    "import xarray as xr\n",
    "\n",
    "#after calculating the distance from the storm it became clear that the storm data is every 6 hours, no matter \n",
    "#how much it may have moved.  So if the storm moved 300 km in 6 hr, when calculating the distance to the storm\n",
    "#there were points on the storm track that showed large distances because of the separation to the 6hrly storm points\n",
    "#this subroutine interpolates the storm path onto a higher spatial resolution\n",
    "#the new storm dataset is carefully put into an identical format with i2 and j2 as dims to match the old format\n",
    "ynew = []\n",
    "tnew = []\n",
    "xnew = []\n",
    "subset['lon_wmo'] = (subset.lon_wmo-180) % 360 - 180 #put -180 to 180\n",
    "for istep in range(1,subset.lon_wmo.shape[0]):\n",
    "    dif_lat = subset.lat_wmo[istep]-subset.lat_wmo,istep-1]\n",
    "    dif_lon = subset.lon_wmo[istep]-subset.lon_wmo[istep-1]\n",
    "    x,y,t = subset.lon_wmo[istep-1:istep+1].values,subset.lat_wmo[istep-1:istep+1].values,subset.time_wmo[istep-1:istep+1].values\n",
    "    x1,y1,t1 = subset.lon_wmo[istep-1:istep].values,subset.lat_wmo[istep-1:istep].values,subset.time_wmo[istep-1:istep].values\n",
    "    if abs(dif_lat)>abs(dif_lon):\n",
    "        isign = np.sign(dif_lat)\n",
    "        if abs(dif_lat)>0.75:\n",
    "            ynew1 = np.arange(y[0], y[-1], isign.data*0.75)\n",
    "            f = interpolate.interp1d(y, x, assume_sorted=False)\n",
    "            xnew1 = f(ynew1)\n",
    "            f = interpolate.interp1d(y, t, assume_sorted=False)\n",
    "            tnew1 = f(ynew1)\n",
    "        else:\n",
    "            xnew1,ynew1,tnew1 = x1,y1,t1\n",
    "        xnew,ynew,tnew = np.append(xnew,xnew1),np.append(ynew,ynew1),np.append(tnew,tnew1) \n",
    "    else:\n",
    "        isign = np.sign(dif_lon)\n",
    "        if abs(dif_lon)>0.75:\n",
    "            iwrap_interp = 1\n",
    "            if (x[0]<-90) & (x[-1]>90):\n",
    "                iwrap_interp = -1\n",
    "                x[0]=x[0]+360\n",
    "            if (x[0]>90) & (x[-1]<-90):\n",
    "                iwrap_interp = -1\n",
    "                x[-1]=x[-1]+360\n",
    "            xnew1 = np.arange(x[0], x[-1], iwrap_interp*isign.data*0.75)\n",
    "            f = interpolate.interp1d(x, y, assume_sorted=False)\n",
    "            ynew1 = f(xnew1)\n",
    "            f = interpolate.interp1d(x, t, assume_sorted=False)\n",
    "            tnew1 = f(xnew1)\n",
    "            xnew1 = (xnew1 - 180) % 360 - 180 #put -180 to 180\n",
    "        else:\n",
    "            xnew1,ynew1,tnew1 = x1,y1,t1\n",
    "        xnew,ynew,tnew = np.append(xnew,xnew1),np.append(ynew,ynew1),np.append(tnew,tnew1) \n",
    "#remove any repeated points\n",
    "ilen=xnew.size\n",
    "outputx,outputy,outputt=[],[],[]\n",
    "for i in range(ilen-1):\n",
    "    if (xnew[i]==xnew[i+1]) and (ynew[i]==ynew[i+1]):\n",
    "        continue\n",
    "    else:\n",
    "        outputx,outputy,outputt = np.append(outputx,xnew[i]),np.append(outputy,ynew[i]),np.append(outputt,tnew[i])\n",
    "xnew,ynew,tnew=outputx,outputy,outputt\n",
    "#put into xarray\n",
    "i2,j2=xnew.shape[0],1\n",
    "tem = np.expand_dims(xnew, axis=0)\n",
    "xx = xr.DataArray(tem.T,dims=['i2','j2'])\n",
    "tem = np.expand_dims(ynew, axis=0)\n",
    "yy = xr.DataArray(tem.T,dims=['i2','j2'])\n",
    "tem = np.expand_dims(tnew, axis=0)\n",
    "tt = xr.DataArray(tem.T,dims=['i2','j2'])\n",
    "dsx_new = xr.Dataset({'lon':xx.T,'lat':yy.T,'time':tt.T})\n",
    "\n"
   ]
  }
 ],
 "metadata": {
  "kernelspec": {
   "display_name": "Python 3",
   "language": "python",
   "name": "python3"
  },
  "language_info": {
   "codemirror_mode": {
    "name": "ipython",
    "version": 3
   },
   "file_extension": ".py",
   "mimetype": "text/x-python",
   "name": "python",
   "nbconvert_exporter": "python",
   "pygments_lexer": "ipython3",
   "version": "3.7.0"
  }
 },
 "nbformat": 4,
 "nbformat_minor": 2
}
